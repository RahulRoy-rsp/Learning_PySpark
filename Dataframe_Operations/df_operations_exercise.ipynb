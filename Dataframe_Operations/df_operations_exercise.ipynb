{
  "nbformat": 4,
  "nbformat_minor": 0,
  "metadata": {
    "colab": {
      "provenance": []
    },
    "kernelspec": {
      "name": "python3",
      "display_name": "Python 3"
    },
    "language_info": {
      "name": "python"
    }
  },
  "cells": [
    {
      "cell_type": "code",
      "execution_count": 1,
      "metadata": {
        "colab": {
          "base_uri": "https://localhost:8080/"
        },
        "id": "i-l0AYWipS0B",
        "outputId": "0269687e-78d9-483c-9d95-6c5f22eab2d6"
      },
      "outputs": [
        {
          "output_type": "stream",
          "name": "stdout",
          "text": [
            "Requirement already satisfied: pyspark in /usr/local/lib/python3.11/dist-packages (3.5.4)\n",
            "Requirement already satisfied: py4j==0.10.9.7 in /usr/local/lib/python3.11/dist-packages (from pyspark) (0.10.9.7)\n"
          ]
        }
      ],
      "source": [
        "!pip install pyspark"
      ]
    },
    {
      "cell_type": "code",
      "source": [
        "!pip install -q findspark"
      ],
      "metadata": {
        "id": "IpD6-oarpTq8"
      },
      "execution_count": 2,
      "outputs": []
    },
    {
      "cell_type": "code",
      "source": [
        "import findspark\n",
        "findspark.init()"
      ],
      "metadata": {
        "id": "uETNm45RpWSv"
      },
      "execution_count": 3,
      "outputs": []
    },
    {
      "cell_type": "code",
      "source": [
        "# creating a spark session that will be used to perform all the necessary task on Spark\n",
        "from pyspark.sql import SparkSession\n",
        "spark = SparkSession.builder.master(\"local[*]\").appName('df-operations-exercise').getOrCreate()\n",
        "spark"
      ],
      "metadata": {
        "colab": {
          "base_uri": "https://localhost:8080/",
          "height": 222
        },
        "id": "E1_Xiqb1pbuK",
        "outputId": "b0cc787e-118e-48cf-d8e7-64f21c1270de"
      },
      "execution_count": 4,
      "outputs": [
        {
          "output_type": "execute_result",
          "data": {
            "text/plain": [
              "<pyspark.sql.session.SparkSession at 0x7962182a2310>"
            ],
            "text/html": [
              "\n",
              "            <div>\n",
              "                <p><b>SparkSession - in-memory</b></p>\n",
              "                \n",
              "        <div>\n",
              "            <p><b>SparkContext</b></p>\n",
              "\n",
              "            <p><a href=\"http://635991ecd5bd:4040\">Spark UI</a></p>\n",
              "\n",
              "            <dl>\n",
              "              <dt>Version</dt>\n",
              "                <dd><code>v3.5.4</code></dd>\n",
              "              <dt>Master</dt>\n",
              "                <dd><code>local[*]</code></dd>\n",
              "              <dt>AppName</dt>\n",
              "                <dd><code>df-operations-exercise</code></dd>\n",
              "            </dl>\n",
              "        </div>\n",
              "        \n",
              "            </div>\n",
              "        "
            ]
          },
          "metadata": {},
          "execution_count": 4
        }
      ]
    },
    {
      "cell_type": "markdown",
      "source": [
        "# EXERCISE 1"
      ],
      "metadata": {
        "id": "uPO01LMIq8Er"
      }
    },
    {
      "cell_type": "markdown",
      "source": [
        "**1. Create a DataFrame with four columns: `Name`, `Age`, `City` and `Country`.**\n",
        "\n",
        "**2. Insert the following five records:**"
      ],
      "metadata": {
        "id": "TunBBU39q_JM"
      }
    },
    {
      "cell_type": "code",
      "source": [
        "# data for the dataframe\n",
        "data = [\n",
        "    (\"Mark Boucher\", 42, \"Cape Town\", \"South Africa\"),\n",
        "    (\"Shaun Pollock\", 48, \"Durban\", \"South Africa\"),\n",
        "    (\"Brendon McCullam\", 39, \"Wellington\", \"New ZeaLand\"),\n",
        "    (\"Saurav Ganguly\", 44, \"Mumbai\", \"India\"),\n",
        "    (\"Shoaib Akhtar\", 41, \"Rawalpindi\", \"Pakistan\")\n",
        "]\n",
        "\n",
        "# Creating the DataFrame\n",
        "ex1_df = spark.createDataFrame(data, [\"Name\", \"Age\", \"City\", \"Country\"])"
      ],
      "metadata": {
        "id": "TPehFELfpjR1"
      },
      "execution_count": 7,
      "outputs": []
    },
    {
      "cell_type": "markdown",
      "source": [
        "**3. Display the DataFrame.**"
      ],
      "metadata": {
        "id": "aefsDG-0rC5a"
      }
    },
    {
      "cell_type": "code",
      "source": [
        "ex1_df.show()"
      ],
      "metadata": {
        "colab": {
          "base_uri": "https://localhost:8080/"
        },
        "id": "6-N_53N-qnfH",
        "outputId": "ee4e8c4d-319e-4aed-f28d-d7d82202236d"
      },
      "execution_count": 8,
      "outputs": [
        {
          "output_type": "stream",
          "name": "stdout",
          "text": [
            "+----------------+---+----------+------------+\n",
            "|            Name|Age|      City|     Country|\n",
            "+----------------+---+----------+------------+\n",
            "|    Mark Boucher| 42| Cape Town|South Africa|\n",
            "|   Shaun Pollock| 48|    Durban|South Africa|\n",
            "|Brendon McCullam| 39|Wellington| New ZeaLand|\n",
            "|  Saurav Ganguly| 44|    Mumbai|       India|\n",
            "|   Shoaib Akhtar| 41|Rawalpindi|    Pakistan|\n",
            "+----------------+---+----------+------------+\n",
            "\n"
          ]
        }
      ]
    },
    {
      "cell_type": "markdown",
      "source": [
        "**4. Show the dataframe with only the following columns: `Name` and `Country`.**"
      ],
      "metadata": {
        "id": "XTyeJUJqrO19"
      }
    },
    {
      "cell_type": "code",
      "source": [
        "ex1_df.select(\"Name\", \"Country\").show()"
      ],
      "metadata": {
        "colab": {
          "base_uri": "https://localhost:8080/"
        },
        "id": "aPAb1hvKqrGh",
        "outputId": "e21140f8-f27b-4dcc-af0f-c5853b99793b"
      },
      "execution_count": 9,
      "outputs": [
        {
          "output_type": "stream",
          "name": "stdout",
          "text": [
            "+----------------+------------+\n",
            "|            Name|     Country|\n",
            "+----------------+------------+\n",
            "|    Mark Boucher|South Africa|\n",
            "|   Shaun Pollock|South Africa|\n",
            "|Brendon McCullam| New ZeaLand|\n",
            "|  Saurav Ganguly|       India|\n",
            "|   Shoaib Akhtar|    Pakistan|\n",
            "+----------------+------------+\n",
            "\n"
          ]
        }
      ]
    },
    {
      "cell_type": "markdown",
      "source": [
        "**5. Show the dataframe sorted by the column `Age` in *descending* order.**"
      ],
      "metadata": {
        "id": "m0e5UOdMq3wF"
      }
    },
    {
      "cell_type": "code",
      "source": [
        "from pyspark.sql.functions import col\n",
        "ex1_df.orderBy(col(\"Age\").desc()).show()"
      ],
      "metadata": {
        "colab": {
          "base_uri": "https://localhost:8080/"
        },
        "id": "15fF6bTZqyiN",
        "outputId": "546baf55-534b-4819-d82c-68eaddb3088a"
      },
      "execution_count": 12,
      "outputs": [
        {
          "output_type": "stream",
          "name": "stdout",
          "text": [
            "+----------------+---+----------+------------+\n",
            "|            Name|Age|      City|     Country|\n",
            "+----------------+---+----------+------------+\n",
            "|   Shaun Pollock| 48|    Durban|South Africa|\n",
            "|  Saurav Ganguly| 44|    Mumbai|       India|\n",
            "|    Mark Boucher| 42| Cape Town|South Africa|\n",
            "|   Shoaib Akhtar| 41|Rawalpindi|    Pakistan|\n",
            "|Brendon McCullam| 39|Wellington| New ZeaLand|\n",
            "+----------------+---+----------+------------+\n",
            "\n"
          ]
        }
      ]
    },
    {
      "cell_type": "code",
      "source": [
        "ex1_df.sort(\"Age\", ascending=False).show()"
      ],
      "metadata": {
        "colab": {
          "base_uri": "https://localhost:8080/"
        },
        "id": "UO2Y3fASrWj_",
        "outputId": "a4d1dc3a-28fc-4578-a2f9-055a48a42acd"
      },
      "execution_count": 13,
      "outputs": [
        {
          "output_type": "stream",
          "name": "stdout",
          "text": [
            "+----------------+---+----------+------------+\n",
            "|            Name|Age|      City|     Country|\n",
            "+----------------+---+----------+------------+\n",
            "|   Shaun Pollock| 48|    Durban|South Africa|\n",
            "|  Saurav Ganguly| 44|    Mumbai|       India|\n",
            "|    Mark Boucher| 42| Cape Town|South Africa|\n",
            "|   Shoaib Akhtar| 41|Rawalpindi|    Pakistan|\n",
            "|Brendon McCullam| 39|Wellington| New ZeaLand|\n",
            "+----------------+---+----------+------------+\n",
            "\n"
          ]
        }
      ]
    },
    {
      "cell_type": "markdown",
      "source": [
        "**6. Show the columns available in the dataframe.**"
      ],
      "metadata": {
        "id": "462J76hfsAKN"
      }
    },
    {
      "cell_type": "code",
      "source": [
        "ex1_df.columns"
      ],
      "metadata": {
        "colab": {
          "base_uri": "https://localhost:8080/"
        },
        "id": "5MW3W7zLr402",
        "outputId": "35eccdd7-a16c-4cc4-c471-7f850a80c440"
      },
      "execution_count": 14,
      "outputs": [
        {
          "output_type": "execute_result",
          "data": {
            "text/plain": [
              "['Name', 'Age', 'City', 'Country']"
            ]
          },
          "metadata": {},
          "execution_count": 14
        }
      ]
    },
    {
      "cell_type": "markdown",
      "source": [
        "**7. Drop the column `Age` from the Dataframe.**"
      ],
      "metadata": {
        "id": "dt0eK5iKsEe-"
      }
    },
    {
      "cell_type": "code",
      "source": [
        "ex1_df = ex1_df.drop(\"Age\")"
      ],
      "metadata": {
        "id": "IMrLo0dOsCcl"
      },
      "execution_count": 18,
      "outputs": []
    },
    {
      "cell_type": "markdown",
      "source": [
        "**8. Show the schema of the dataframe as of now.**"
      ],
      "metadata": {
        "id": "f6r6u0jdsUmS"
      }
    },
    {
      "cell_type": "code",
      "source": [
        "ex1_df.printSchema()"
      ],
      "metadata": {
        "colab": {
          "base_uri": "https://localhost:8080/"
        },
        "id": "8Q6X9GcQsL10",
        "outputId": "eec75e00-272b-4cd4-891e-9cb41ff9fc8d"
      },
      "execution_count": 19,
      "outputs": [
        {
          "output_type": "stream",
          "name": "stdout",
          "text": [
            "root\n",
            " |-- Name: string (nullable = true)\n",
            " |-- City: string (nullable = true)\n",
            " |-- Country: string (nullable = true)\n",
            "\n"
          ]
        }
      ]
    },
    {
      "cell_type": "markdown",
      "source": [
        "**9. Show the records from the dataframe where the `Country` is South Africa.**"
      ],
      "metadata": {
        "id": "d1W_jCeYsZ8z"
      }
    },
    {
      "cell_type": "code",
      "source": [
        "ex1_df.filter(ex1_df.Country == \"South Africa\").show()"
      ],
      "metadata": {
        "colab": {
          "base_uri": "https://localhost:8080/"
        },
        "id": "Z2ZnWUcSsQex",
        "outputId": "c7175faf-a317-4b94-af0c-8cadbdc12829"
      },
      "execution_count": 22,
      "outputs": [
        {
          "output_type": "stream",
          "name": "stdout",
          "text": [
            "+-------------+---------+------------+\n",
            "|         Name|     City|     Country|\n",
            "+-------------+---------+------------+\n",
            "| Mark Boucher|Cape Town|South Africa|\n",
            "|Shaun Pollock|   Durban|South Africa|\n",
            "+-------------+---------+------------+\n",
            "\n"
          ]
        }
      ]
    },
    {
      "cell_type": "code",
      "source": [],
      "metadata": {
        "id": "N5YOMkLBsp6V"
      },
      "execution_count": null,
      "outputs": []
    },
    {
      "cell_type": "markdown",
      "source": [
        "# EXERCISE 2"
      ],
      "metadata": {
        "id": "Y6b8XiAis4J7"
      }
    },
    {
      "cell_type": "markdown",
      "source": [
        "1. Read the csv file and create its dataframe with following schema\n",
        "   - `first_name` (StringType)\n",
        "   - `last_name` (StringType)\n",
        "   - `gender` (StringType)\n",
        "   - `age` (IntegerType)\n",
        "\n",
        "2. Display the DataFrame.\n"
      ],
      "metadata": {
        "id": "rteKGnpds57V"
      }
    },
    {
      "cell_type": "code",
      "source": [
        "from pyspark.sql.types import StructType, StructField, StringType, IntegerType\n",
        "\n",
        "# Defining the schema\n",
        "schema = StructType([\n",
        "    StructField(\"first_name\", StringType(), True),\n",
        "    StructField(\"last_name\", StringType(), True),\n",
        "    StructField(\"gender\", StringType(), True),\n",
        "    StructField(\"age\", IntegerType(), True)\n",
        "])\n",
        "\n",
        "ex2_df = spark.read.csv(\"players1.csv\", header=True, schema=schema)\n",
        "\n",
        "ex2_df.show()"
      ],
      "metadata": {
        "colab": {
          "base_uri": "https://localhost:8080/"
        },
        "id": "gS84n4WWs5TL",
        "outputId": "cf33944e-676d-493a-a65e-3955dba11a0c"
      },
      "execution_count": 25,
      "outputs": [
        {
          "output_type": "stream",
          "name": "stdout",
          "text": [
            "+----------+---------+------+---+\n",
            "|first_name|last_name|gender|age|\n",
            "+----------+---------+------+---+\n",
            "|      Ross|   Taylor|     M| 34|\n",
            "|     Clint|    McKay|     M| 37|\n",
            "|      Kyle|    Mills|     M| 38|\n",
            "|       Meg|  Lanning|     F| 33|\n",
            "|     Suzie|    Bates|     F| 35|\n",
            "|      Todd|    Astle|     M| 43|\n",
            "|     Chloe|    Tryon|     F| 31|\n",
            "|  Samantha|    Bates|     F| 29|\n",
            "|     Glenn|  Maxwell|     M| 33|\n",
            "|   Deandra|   Dottin|     F| 37|\n",
            "+----------+---------+------+---+\n",
            "\n"
          ]
        }
      ]
    },
    {
      "cell_type": "markdown",
      "source": [
        "**3. Show only the first five records of the DataFrame.**"
      ],
      "metadata": {
        "id": "dN_DdQ4Ws6nd"
      }
    },
    {
      "cell_type": "code",
      "source": [
        "ex2_df.show(5)"
      ],
      "metadata": {
        "colab": {
          "base_uri": "https://localhost:8080/"
        },
        "id": "U0qb8EsNs90g",
        "outputId": "008ebc67-f297-45c2-d29c-b7a9715e2158"
      },
      "execution_count": 28,
      "outputs": [
        {
          "output_type": "stream",
          "name": "stdout",
          "text": [
            "+----------+---------+------+---+\n",
            "|first_name|last_name|gender|age|\n",
            "+----------+---------+------+---+\n",
            "|      Ross|   Taylor|     M| 34|\n",
            "|     Clint|    McKay|     M| 37|\n",
            "|      Kyle|    Mills|     M| 38|\n",
            "|       Meg|  Lanning|     F| 33|\n",
            "|     Suzie|    Bates|     F| 35|\n",
            "+----------+---------+------+---+\n",
            "only showing top 5 rows\n",
            "\n"
          ]
        }
      ]
    },
    {
      "cell_type": "markdown",
      "source": [
        "**4. Show the number of counts of each `gender`.**"
      ],
      "metadata": {
        "id": "fFi7x0sDs-hB"
      }
    },
    {
      "cell_type": "code",
      "source": [
        "from pyspark.sql.functions import count\n",
        "\n",
        "gender_group_count = ex2_df.groupBy(\"gender\").agg(count(\"*\").alias(\"Cnt\")).show()"
      ],
      "metadata": {
        "colab": {
          "base_uri": "https://localhost:8080/"
        },
        "id": "Et2COQk3s-9t",
        "outputId": "9d496fd6-f676-4c9e-a8db-cdb05f50eeb5"
      },
      "execution_count": 33,
      "outputs": [
        {
          "output_type": "stream",
          "name": "stdout",
          "text": [
            "+------+---+\n",
            "|gender|Cnt|\n",
            "+------+---+\n",
            "|     F|  5|\n",
            "|     M|  5|\n",
            "+------+---+\n",
            "\n"
          ]
        }
      ]
    },
    {
      "cell_type": "markdown",
      "source": [
        "**5. Show the `first_name`, `last_name` and the `age` of the player who is the youngest in the whole dataframe.**"
      ],
      "metadata": {
        "id": "rxppeHVhs_RC"
      }
    },
    {
      "cell_type": "code",
      "source": [
        "from pyspark.sql.functions import min\n",
        "youngest_player = ex2_df.orderBy(\"Age\").select(\"first_name\", \"last_name\", \"Age\").limit(1).show()"
      ],
      "metadata": {
        "colab": {
          "base_uri": "https://localhost:8080/"
        },
        "id": "ekCykgMSs_nx",
        "outputId": "f155cee7-ee9e-490c-8f08-d7dfce7bdd52"
      },
      "execution_count": 35,
      "outputs": [
        {
          "output_type": "stream",
          "name": "stdout",
          "text": [
            "+----------+---------+---+\n",
            "|first_name|last_name|Age|\n",
            "+----------+---------+---+\n",
            "|  Samantha|    Bates| 29|\n",
            "+----------+---------+---+\n",
            "\n"
          ]
        }
      ]
    },
    {
      "cell_type": "code",
      "source": [
        "# method 2\n",
        "\n",
        "min_age = ex2_df.select(min(\"age\")).collect()[0][0]\n",
        "ex2_df.filter(ex2_df.age == min_age).select(\"first_name\", \"last_name\", \"Age\").show()"
      ],
      "metadata": {
        "colab": {
          "base_uri": "https://localhost:8080/"
        },
        "id": "XX5u4DN3vr5f",
        "outputId": "bfae9ddc-d409-44e2-8509-cb79e945634f"
      },
      "execution_count": 42,
      "outputs": [
        {
          "output_type": "stream",
          "name": "stdout",
          "text": [
            "+----------+---------+---+\n",
            "|first_name|last_name|Age|\n",
            "+----------+---------+---+\n",
            "|  Samantha|    Bates| 29|\n",
            "+----------+---------+---+\n",
            "\n"
          ]
        }
      ]
    },
    {
      "cell_type": "markdown",
      "source": [
        "**6. Show the `first_name`, `last_name`, `gender` and the `age` of the player who is the oldest among their gender in the whole dataframe.**"
      ],
      "metadata": {
        "id": "TCjFzGOas_4-"
      }
    },
    {
      "cell_type": "code",
      "source": [
        "from pyspark.sql.functions import max\n",
        "\n",
        "oldest_by_gender = ex2_df.groupBy(\"gender\").agg(max(\"age\").alias(\"max_age\"))\n",
        "oldest_players = ex2_df.join(oldest_by_gender.drop(\"gender\"), (ex2_df.gender == oldest_by_gender.gender) & (ex2_df.age == oldest_by_gender.max_age)) \\\n",
        "                       .select(ex2_df.first_name, ex2_df.last_name, ex2_df.gender, ex2_df.age)\n",
        "# oldest_player.columns\n",
        "oldest_players.show()"
      ],
      "metadata": {
        "colab": {
          "base_uri": "https://localhost:8080/"
        },
        "id": "DO71U5vbtAmY",
        "outputId": "497654c1-03f0-4821-c51a-c2e6fbbafcf6"
      },
      "execution_count": 64,
      "outputs": [
        {
          "output_type": "stream",
          "name": "stdout",
          "text": [
            "+----------+---------+------+---+\n",
            "|first_name|last_name|gender|age|\n",
            "+----------+---------+------+---+\n",
            "|     Clint|    McKay|     M| 37|\n",
            "|      Todd|    Astle|     M| 43|\n",
            "|   Deandra|   Dottin|     F| 37|\n",
            "+----------+---------+------+---+\n",
            "\n"
          ]
        }
      ]
    },
    {
      "cell_type": "code",
      "source": [
        "# method 2\n",
        "\n",
        "from pyspark.sql.window import Window\n",
        "from pyspark.sql.functions import rank\n",
        "\n",
        "# Defining a window partitioned by gender, ordered by age descending\n",
        "window_spec = Window.partitionBy(\"gender\").orderBy(col(\"age\").desc())\n",
        "\n",
        "# Ranking players within each gender by age\n",
        "df_ranked = ex2_df.withColumn(\"rank\", rank().over(window_spec))\n",
        "\n",
        "# Select the players with rank 1 (oldest)\n",
        "oldest_players = df_ranked.filter(col(\"rank\") == 1).select(\"first_name\", \"last_name\", \"gender\", \"Age\")\n",
        "oldest_players.show()\n"
      ],
      "metadata": {
        "colab": {
          "base_uri": "https://localhost:8080/"
        },
        "id": "52Hf-Huuwrvd",
        "outputId": "937f2266-dc22-4d58-88e3-a3ee10c100bb"
      },
      "execution_count": 43,
      "outputs": [
        {
          "output_type": "stream",
          "name": "stdout",
          "text": [
            "+----------+---------+---+\n",
            "|first_name|last_name|Age|\n",
            "+----------+---------+---+\n",
            "|      Todd|    Astle| 43|\n",
            "+----------+---------+---+\n",
            "\n"
          ]
        }
      ]
    },
    {
      "cell_type": "markdown",
      "source": [
        "**7. Add another column `full_name` which would be the concatenation of `first_name` and `last_name` in the dataframe.**"
      ],
      "metadata": {
        "id": "BvnEP9PdtZVx"
      }
    },
    {
      "cell_type": "code",
      "source": [
        "from pyspark.sql.functions import concat_ws\n",
        "ex2_df = ex2_df.withColumn(\"full_name\", concat_ws(\" \", col(\"first_name\"), col(\"last_name\")))\n",
        "\n",
        "ex2_df.show()"
      ],
      "metadata": {
        "colab": {
          "base_uri": "https://localhost:8080/"
        },
        "id": "vZPpqlKztWeN",
        "outputId": "3f0a877b-036f-4043-e291-d2b8e93516df"
      },
      "execution_count": 38,
      "outputs": [
        {
          "output_type": "stream",
          "name": "stdout",
          "text": [
            "+----------+---------+------+---+--------------+\n",
            "|first_name|last_name|gender|age|     full_name|\n",
            "+----------+---------+------+---+--------------+\n",
            "|      Ross|   Taylor|     M| 34|   Ross Taylor|\n",
            "|     Clint|    McKay|     M| 37|   Clint McKay|\n",
            "|      Kyle|    Mills|     M| 38|    Kyle Mills|\n",
            "|       Meg|  Lanning|     F| 33|   Meg Lanning|\n",
            "|     Suzie|    Bates|     F| 35|   Suzie Bates|\n",
            "|      Todd|    Astle|     M| 43|    Todd Astle|\n",
            "|     Chloe|    Tryon|     F| 31|   Chloe Tryon|\n",
            "|  Samantha|    Bates|     F| 29|Samantha Bates|\n",
            "|     Glenn|  Maxwell|     M| 33| Glenn Maxwell|\n",
            "|   Deandra|   Dottin|     F| 37|Deandra Dottin|\n",
            "+----------+---------+------+---+--------------+\n",
            "\n"
          ]
        }
      ]
    },
    {
      "cell_type": "code",
      "source": [
        "from pyspark.sql.functions import expr\n",
        "\n",
        "df = ex2_df.withColumn(\"full_name\", expr(\"first_name || ' ' || last_name\"))\n",
        "df.show()"
      ],
      "metadata": {
        "colab": {
          "base_uri": "https://localhost:8080/"
        },
        "id": "W2PBXxox48SR",
        "outputId": "c8316036-830a-43ac-a3af-6d6bd4421844"
      },
      "execution_count": 65,
      "outputs": [
        {
          "output_type": "stream",
          "name": "stdout",
          "text": [
            "+----------+---------+------+---+--------------+\n",
            "|first_name|last_name|gender|age|     full_name|\n",
            "+----------+---------+------+---+--------------+\n",
            "|      Ross|   Taylor|     M| 34|   Ross Taylor|\n",
            "|     Clint|    McKay|     M| 37|   Clint McKay|\n",
            "|      Kyle|    Mills|     M| 38|    Kyle Mills|\n",
            "|       Meg|  Lanning|     F| 33|   Meg Lanning|\n",
            "|     Suzie|    Bates|     F| 35|   Suzie Bates|\n",
            "|      Todd|    Astle|     M| 43|    Todd Astle|\n",
            "|     Chloe|    Tryon|     F| 31|   Chloe Tryon|\n",
            "|  Samantha|    Bates|     F| 29|Samantha Bates|\n",
            "|     Glenn|  Maxwell|     M| 33| Glenn Maxwell|\n",
            "|   Deandra|   Dottin|     F| 37|Deandra Dottin|\n",
            "+----------+---------+------+---+--------------+\n",
            "\n"
          ]
        }
      ]
    },
    {
      "cell_type": "markdown",
      "source": [
        "**8. Show the schema of the dataframe.**"
      ],
      "metadata": {
        "id": "fZXa7tnlta-R"
      }
    },
    {
      "cell_type": "code",
      "source": [
        "ex2_df.printSchema()"
      ],
      "metadata": {
        "colab": {
          "base_uri": "https://localhost:8080/"
        },
        "id": "wsOI3q2ytXiY",
        "outputId": "83f3dbd0-d651-43c3-b34b-14dc0a486c80"
      },
      "execution_count": 39,
      "outputs": [
        {
          "output_type": "stream",
          "name": "stdout",
          "text": [
            "root\n",
            " |-- first_name: string (nullable = true)\n",
            " |-- last_name: string (nullable = true)\n",
            " |-- gender: string (nullable = true)\n",
            " |-- age: integer (nullable = true)\n",
            " |-- full_name: string (nullable = false)\n",
            "\n"
          ]
        }
      ]
    },
    {
      "cell_type": "markdown",
      "source": [
        "**9. Show the records for those who have `age` greater than 35.**"
      ],
      "metadata": {
        "id": "8UXCHE7TtePn"
      }
    },
    {
      "cell_type": "code",
      "source": [
        "ex2_df.where(ex2_df.age > 35).show()"
      ],
      "metadata": {
        "colab": {
          "base_uri": "https://localhost:8080/"
        },
        "id": "1F6C2W6TtfVc",
        "outputId": "21000817-b171-4a7a-e1e3-3d5faf175a92"
      },
      "execution_count": 41,
      "outputs": [
        {
          "output_type": "stream",
          "name": "stdout",
          "text": [
            "+----------+---------+------+---+--------------+\n",
            "|first_name|last_name|gender|age|     full_name|\n",
            "+----------+---------+------+---+--------------+\n",
            "|     Clint|    McKay|     M| 37|   Clint McKay|\n",
            "|      Kyle|    Mills|     M| 38|    Kyle Mills|\n",
            "|      Todd|    Astle|     M| 43|    Todd Astle|\n",
            "|   Deandra|   Dottin|     F| 37|Deandra Dottin|\n",
            "+----------+---------+------+---+--------------+\n",
            "\n"
          ]
        }
      ]
    },
    {
      "cell_type": "code",
      "source": [],
      "metadata": {
        "id": "Z9_9tEwYv_97"
      },
      "execution_count": null,
      "outputs": []
    }
  ]
}