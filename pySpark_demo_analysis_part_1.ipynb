{
  "nbformat": 4,
  "nbformat_minor": 0,
  "metadata": {
    "colab": {
      "provenance": []
    },
    "kernelspec": {
      "name": "python3",
      "display_name": "Python 3"
    },
    "language_info": {
      "name": "python"
    }
  },
  "cells": [
    {
      "cell_type": "code",
      "execution_count": 110,
      "metadata": {
        "id": "N3JKMeBygNCF"
      },
      "outputs": [],
      "source": [
        "# installing java as spark requires Java Virtual Machine (JVM)\n",
        "!apt-get install openjdk-8-jdk-headless -qq > /dev/null\n",
        "\n",
        "# downloading apache spark with hadoop (it will be in a .zip format)\n",
        "!wget -q http://archive.apache.org/dist/spark/spark-3.1.1/spark-3.1.1-bin-hadoop3.2.tgz\n",
        "\n",
        "# unziping the .zip file\n",
        "!tar xf spark-3.1.1-bin-hadoop3.2.tgz"
      ]
    },
    {
      "cell_type": "code",
      "source": [
        "# installing findspark\n",
        "# it provides findspark.init() to make pyspark importable as a regular library\n",
        "!pip install -q findspark\n",
        "\n",
        "# setting the environmental path for both Java And Spark to make sure that PySpark will run on Google Colab\n",
        "import os\n",
        "os.environ[\"JAVA_HOME\"] = \"/usr/lib/jvm/java-8-openjdk-amd64\"\n",
        "os.environ[\"SPARK_HOME\"] = \"/content/spark-3.1.1-bin-hadoop3.2\"\n",
        "import findspark\n",
        "findspark.init()"
      ],
      "metadata": {
        "id": "onhhIQyjg6gr"
      },
      "execution_count": 111,
      "outputs": []
    },
    {
      "cell_type": "code",
      "source": [
        "# creating a spark session that will be used to perform all the necessary task on Spark\n",
        "from pyspark.sql import SparkSession\n",
        "spark = SparkSession.builder.master(\"local[*]\").appName('pySpark_rr').getOrCreate()\n",
        "spark"
      ],
      "metadata": {
        "colab": {
          "base_uri": "https://localhost:8080/",
          "height": 222
        },
        "id": "NC3b_RSOhlzJ",
        "outputId": "c8b827dc-c547-4efa-f41a-c22e62ee1f64"
      },
      "execution_count": 112,
      "outputs": [
        {
          "output_type": "execute_result",
          "data": {
            "text/plain": [
              "<pyspark.sql.session.SparkSession at 0x7bbddd75d450>"
            ],
            "text/html": [
              "\n",
              "            <div>\n",
              "                <p><b>SparkSession - in-memory</b></p>\n",
              "                \n",
              "        <div>\n",
              "            <p><b>SparkContext</b></p>\n",
              "\n",
              "            <p><a href=\"http://f330bf142c55:4040\">Spark UI</a></p>\n",
              "\n",
              "            <dl>\n",
              "              <dt>Version</dt>\n",
              "                <dd><code>v3.1.1</code></dd>\n",
              "              <dt>Master</dt>\n",
              "                <dd><code>local[*]</code></dd>\n",
              "              <dt>AppName</dt>\n",
              "                <dd><code>pySpark_rr</code></dd>\n",
              "            </dl>\n",
              "        </div>\n",
              "        \n",
              "            </div>\n",
              "        "
            ]
          },
          "metadata": {},
          "execution_count": 112
        }
      ]
    },
    {
      "cell_type": "code",
      "source": [
        "# for creating my own dataframe, i'm creating a few columns\n",
        "import pandas as pd\n",
        "import random as rd\n",
        "import datetime\n",
        "\n",
        "# 1. creating 1000 product id's\n",
        "id = [i for i in range(1, 1001)]\n",
        "'''\n",
        "above statement is same as\n",
        "id = []\n",
        "for i in range(1, 1001):\n",
        "  id.append(i)\n",
        "'''\n",
        "\n",
        "# 2. generating prices for the products\n",
        "prices = []\n",
        "for i in range(1, 1001):\n",
        "  prices.append(rd.randint(500, 2500))\n",
        "'''\n",
        "above statement is same as\n",
        "prices = [rd.randint(500, 2500) for i in range(1, 1001)]\n",
        "'''\n",
        "\n",
        "# 3. adding a currency to make it a string\n",
        "for i , p in enumerate(prices):\n",
        "  prices[i] = '₹ ' + str(p)\n",
        "'''\n",
        "above statement is same as\n",
        "for i in range(len(prices)):\n",
        "  prices[i] = '₹ ' + str(prices[i])\n",
        "'''\n",
        "\n",
        "# 4. generating the product status\n",
        "statuses = ['shipped', 'out for delivery', 'not shipped', 'out of stock', '']\n",
        "status = [rd.choice(statuses) for i in range(1, 1001)]\n",
        "'''\n",
        "above statement is same as\n",
        "status = []\n",
        "for i in range(1, 1001):\n",
        "  status.append(rd.choice(statuses))\n",
        "'''\n",
        "\n",
        "# 5. generating product names\n",
        "products = ['', 'Console', 'PS', 'Book', 'Watch', 'Health-Kit', 'Ticket']\n",
        "product = [rd.choice(products) for p in range(1000)]\n",
        "'''\n",
        "above statement is same as\n",
        "product = []\n",
        "for i in range(1, 1001):\n",
        "  product.append(rd.choice(products))\n",
        "'''\n",
        "\n",
        "# 5. generating product order dates\n",
        "endDate = datetime.date.today()\n",
        "startDate = endDate - datetime.timedelta(days=1000)\n",
        "orderDate = []\n",
        "\n",
        "for i in range(1000):\n",
        "  randomDate = startDate + datetime.timedelta(days = rd.randint(0, 1000))\n",
        "  orderDate.append(randomDate.strftime(\"%Y-%m-%d\"))\n",
        "\n",
        "# printing a random info\n",
        "print('id: ', id[40])\n",
        "print('Date: ', orderDate[40])\n",
        "print('Name: ', product[40])\n",
        "print('Price: ', prices[40])\n",
        "print('Status: ', status[40])"
      ],
      "metadata": {
        "colab": {
          "base_uri": "https://localhost:8080/"
        },
        "id": "Cg1qYQnEkZLh",
        "outputId": "37b70328-23fc-4d85-a9ec-87ffa529df41"
      },
      "execution_count": 113,
      "outputs": [
        {
          "output_type": "stream",
          "name": "stdout",
          "text": [
            "id:  41\n",
            "Date:  2024-04-05\n",
            "Name:  Console\n",
            "Price:  ₹ 1747\n",
            "Status:  shipped\n"
          ]
        }
      ]
    },
    {
      "cell_type": "code",
      "source": [
        "# combining now to create a pandas dataframe\n",
        "data = {\n",
        "    'Product_ID': id,\n",
        "    'Product_Name': product,\n",
        "    'Order_Date': orderDate,\n",
        "    'Order_Price': prices,\n",
        "    'Order_Status': status\n",
        "}\n",
        "\n",
        "df = pd.DataFrame(data)\n",
        "df.head()"
      ],
      "metadata": {
        "colab": {
          "base_uri": "https://localhost:8080/",
          "height": 206
        },
        "id": "NUHlHdJ1kZIu",
        "outputId": "cc3b0221-f987-4dfe-cb51-ba7abfb1c223"
      },
      "execution_count": 114,
      "outputs": [
        {
          "output_type": "execute_result",
          "data": {
            "text/plain": [
              "   Product_ID Product_Name  Order_Date Order_Price      Order_Status\n",
              "0           1         Book  2023-06-29       ₹ 514      out of stock\n",
              "1           2       Ticket  2021-10-28      ₹ 2347      out of stock\n",
              "2           3   Health-Kit  2021-07-10      ₹ 1215           shipped\n",
              "3           4        Watch  2021-09-17      ₹ 1566                  \n",
              "4           5      Console  2022-09-24      ₹ 2037  out for delivery"
            ],
            "text/html": [
              "\n",
              "  <div id=\"df-39afa4cd-5bc7-44a4-81e0-bfc535919535\" class=\"colab-df-container\">\n",
              "    <div>\n",
              "<style scoped>\n",
              "    .dataframe tbody tr th:only-of-type {\n",
              "        vertical-align: middle;\n",
              "    }\n",
              "\n",
              "    .dataframe tbody tr th {\n",
              "        vertical-align: top;\n",
              "    }\n",
              "\n",
              "    .dataframe thead th {\n",
              "        text-align: right;\n",
              "    }\n",
              "</style>\n",
              "<table border=\"1\" class=\"dataframe\">\n",
              "  <thead>\n",
              "    <tr style=\"text-align: right;\">\n",
              "      <th></th>\n",
              "      <th>Product_ID</th>\n",
              "      <th>Product_Name</th>\n",
              "      <th>Order_Date</th>\n",
              "      <th>Order_Price</th>\n",
              "      <th>Order_Status</th>\n",
              "    </tr>\n",
              "  </thead>\n",
              "  <tbody>\n",
              "    <tr>\n",
              "      <th>0</th>\n",
              "      <td>1</td>\n",
              "      <td>Book</td>\n",
              "      <td>2023-06-29</td>\n",
              "      <td>₹ 514</td>\n",
              "      <td>out of stock</td>\n",
              "    </tr>\n",
              "    <tr>\n",
              "      <th>1</th>\n",
              "      <td>2</td>\n",
              "      <td>Ticket</td>\n",
              "      <td>2021-10-28</td>\n",
              "      <td>₹ 2347</td>\n",
              "      <td>out of stock</td>\n",
              "    </tr>\n",
              "    <tr>\n",
              "      <th>2</th>\n",
              "      <td>3</td>\n",
              "      <td>Health-Kit</td>\n",
              "      <td>2021-07-10</td>\n",
              "      <td>₹ 1215</td>\n",
              "      <td>shipped</td>\n",
              "    </tr>\n",
              "    <tr>\n",
              "      <th>3</th>\n",
              "      <td>4</td>\n",
              "      <td>Watch</td>\n",
              "      <td>2021-09-17</td>\n",
              "      <td>₹ 1566</td>\n",
              "      <td></td>\n",
              "    </tr>\n",
              "    <tr>\n",
              "      <th>4</th>\n",
              "      <td>5</td>\n",
              "      <td>Console</td>\n",
              "      <td>2022-09-24</td>\n",
              "      <td>₹ 2037</td>\n",
              "      <td>out for delivery</td>\n",
              "    </tr>\n",
              "  </tbody>\n",
              "</table>\n",
              "</div>\n",
              "    <div class=\"colab-df-buttons\">\n",
              "\n",
              "  <div class=\"colab-df-container\">\n",
              "    <button class=\"colab-df-convert\" onclick=\"convertToInteractive('df-39afa4cd-5bc7-44a4-81e0-bfc535919535')\"\n",
              "            title=\"Convert this dataframe to an interactive table.\"\n",
              "            style=\"display:none;\">\n",
              "\n",
              "  <svg xmlns=\"http://www.w3.org/2000/svg\" height=\"24px\" viewBox=\"0 -960 960 960\">\n",
              "    <path d=\"M120-120v-720h720v720H120Zm60-500h600v-160H180v160Zm220 220h160v-160H400v160Zm0 220h160v-160H400v160ZM180-400h160v-160H180v160Zm440 0h160v-160H620v160ZM180-180h160v-160H180v160Zm440 0h160v-160H620v160Z\"/>\n",
              "  </svg>\n",
              "    </button>\n",
              "\n",
              "  <style>\n",
              "    .colab-df-container {\n",
              "      display:flex;\n",
              "      gap: 12px;\n",
              "    }\n",
              "\n",
              "    .colab-df-convert {\n",
              "      background-color: #E8F0FE;\n",
              "      border: none;\n",
              "      border-radius: 50%;\n",
              "      cursor: pointer;\n",
              "      display: none;\n",
              "      fill: #1967D2;\n",
              "      height: 32px;\n",
              "      padding: 0 0 0 0;\n",
              "      width: 32px;\n",
              "    }\n",
              "\n",
              "    .colab-df-convert:hover {\n",
              "      background-color: #E2EBFA;\n",
              "      box-shadow: 0px 1px 2px rgba(60, 64, 67, 0.3), 0px 1px 3px 1px rgba(60, 64, 67, 0.15);\n",
              "      fill: #174EA6;\n",
              "    }\n",
              "\n",
              "    .colab-df-buttons div {\n",
              "      margin-bottom: 4px;\n",
              "    }\n",
              "\n",
              "    [theme=dark] .colab-df-convert {\n",
              "      background-color: #3B4455;\n",
              "      fill: #D2E3FC;\n",
              "    }\n",
              "\n",
              "    [theme=dark] .colab-df-convert:hover {\n",
              "      background-color: #434B5C;\n",
              "      box-shadow: 0px 1px 3px 1px rgba(0, 0, 0, 0.15);\n",
              "      filter: drop-shadow(0px 1px 2px rgba(0, 0, 0, 0.3));\n",
              "      fill: #FFFFFF;\n",
              "    }\n",
              "  </style>\n",
              "\n",
              "    <script>\n",
              "      const buttonEl =\n",
              "        document.querySelector('#df-39afa4cd-5bc7-44a4-81e0-bfc535919535 button.colab-df-convert');\n",
              "      buttonEl.style.display =\n",
              "        google.colab.kernel.accessAllowed ? 'block' : 'none';\n",
              "\n",
              "      async function convertToInteractive(key) {\n",
              "        const element = document.querySelector('#df-39afa4cd-5bc7-44a4-81e0-bfc535919535');\n",
              "        const dataTable =\n",
              "          await google.colab.kernel.invokeFunction('convertToInteractive',\n",
              "                                                    [key], {});\n",
              "        if (!dataTable) return;\n",
              "\n",
              "        const docLinkHtml = 'Like what you see? Visit the ' +\n",
              "          '<a target=\"_blank\" href=https://colab.research.google.com/notebooks/data_table.ipynb>data table notebook</a>'\n",
              "          + ' to learn more about interactive tables.';\n",
              "        element.innerHTML = '';\n",
              "        dataTable['output_type'] = 'display_data';\n",
              "        await google.colab.output.renderOutput(dataTable, element);\n",
              "        const docLink = document.createElement('div');\n",
              "        docLink.innerHTML = docLinkHtml;\n",
              "        element.appendChild(docLink);\n",
              "      }\n",
              "    </script>\n",
              "  </div>\n",
              "\n",
              "\n",
              "<div id=\"df-18806853-5c3b-49b0-8ac7-55a4aa803577\">\n",
              "  <button class=\"colab-df-quickchart\" onclick=\"quickchart('df-18806853-5c3b-49b0-8ac7-55a4aa803577')\"\n",
              "            title=\"Suggest charts\"\n",
              "            style=\"display:none;\">\n",
              "\n",
              "<svg xmlns=\"http://www.w3.org/2000/svg\" height=\"24px\"viewBox=\"0 0 24 24\"\n",
              "     width=\"24px\">\n",
              "    <g>\n",
              "        <path d=\"M19 3H5c-1.1 0-2 .9-2 2v14c0 1.1.9 2 2 2h14c1.1 0 2-.9 2-2V5c0-1.1-.9-2-2-2zM9 17H7v-7h2v7zm4 0h-2V7h2v10zm4 0h-2v-4h2v4z\"/>\n",
              "    </g>\n",
              "</svg>\n",
              "  </button>\n",
              "\n",
              "<style>\n",
              "  .colab-df-quickchart {\n",
              "      --bg-color: #E8F0FE;\n",
              "      --fill-color: #1967D2;\n",
              "      --hover-bg-color: #E2EBFA;\n",
              "      --hover-fill-color: #174EA6;\n",
              "      --disabled-fill-color: #AAA;\n",
              "      --disabled-bg-color: #DDD;\n",
              "  }\n",
              "\n",
              "  [theme=dark] .colab-df-quickchart {\n",
              "      --bg-color: #3B4455;\n",
              "      --fill-color: #D2E3FC;\n",
              "      --hover-bg-color: #434B5C;\n",
              "      --hover-fill-color: #FFFFFF;\n",
              "      --disabled-bg-color: #3B4455;\n",
              "      --disabled-fill-color: #666;\n",
              "  }\n",
              "\n",
              "  .colab-df-quickchart {\n",
              "    background-color: var(--bg-color);\n",
              "    border: none;\n",
              "    border-radius: 50%;\n",
              "    cursor: pointer;\n",
              "    display: none;\n",
              "    fill: var(--fill-color);\n",
              "    height: 32px;\n",
              "    padding: 0;\n",
              "    width: 32px;\n",
              "  }\n",
              "\n",
              "  .colab-df-quickchart:hover {\n",
              "    background-color: var(--hover-bg-color);\n",
              "    box-shadow: 0 1px 2px rgba(60, 64, 67, 0.3), 0 1px 3px 1px rgba(60, 64, 67, 0.15);\n",
              "    fill: var(--button-hover-fill-color);\n",
              "  }\n",
              "\n",
              "  .colab-df-quickchart-complete:disabled,\n",
              "  .colab-df-quickchart-complete:disabled:hover {\n",
              "    background-color: var(--disabled-bg-color);\n",
              "    fill: var(--disabled-fill-color);\n",
              "    box-shadow: none;\n",
              "  }\n",
              "\n",
              "  .colab-df-spinner {\n",
              "    border: 2px solid var(--fill-color);\n",
              "    border-color: transparent;\n",
              "    border-bottom-color: var(--fill-color);\n",
              "    animation:\n",
              "      spin 1s steps(1) infinite;\n",
              "  }\n",
              "\n",
              "  @keyframes spin {\n",
              "    0% {\n",
              "      border-color: transparent;\n",
              "      border-bottom-color: var(--fill-color);\n",
              "      border-left-color: var(--fill-color);\n",
              "    }\n",
              "    20% {\n",
              "      border-color: transparent;\n",
              "      border-left-color: var(--fill-color);\n",
              "      border-top-color: var(--fill-color);\n",
              "    }\n",
              "    30% {\n",
              "      border-color: transparent;\n",
              "      border-left-color: var(--fill-color);\n",
              "      border-top-color: var(--fill-color);\n",
              "      border-right-color: var(--fill-color);\n",
              "    }\n",
              "    40% {\n",
              "      border-color: transparent;\n",
              "      border-right-color: var(--fill-color);\n",
              "      border-top-color: var(--fill-color);\n",
              "    }\n",
              "    60% {\n",
              "      border-color: transparent;\n",
              "      border-right-color: var(--fill-color);\n",
              "    }\n",
              "    80% {\n",
              "      border-color: transparent;\n",
              "      border-right-color: var(--fill-color);\n",
              "      border-bottom-color: var(--fill-color);\n",
              "    }\n",
              "    90% {\n",
              "      border-color: transparent;\n",
              "      border-bottom-color: var(--fill-color);\n",
              "    }\n",
              "  }\n",
              "</style>\n",
              "\n",
              "  <script>\n",
              "    async function quickchart(key) {\n",
              "      const quickchartButtonEl =\n",
              "        document.querySelector('#' + key + ' button');\n",
              "      quickchartButtonEl.disabled = true;  // To prevent multiple clicks.\n",
              "      quickchartButtonEl.classList.add('colab-df-spinner');\n",
              "      try {\n",
              "        const charts = await google.colab.kernel.invokeFunction(\n",
              "            'suggestCharts', [key], {});\n",
              "      } catch (error) {\n",
              "        console.error('Error during call to suggestCharts:', error);\n",
              "      }\n",
              "      quickchartButtonEl.classList.remove('colab-df-spinner');\n",
              "      quickchartButtonEl.classList.add('colab-df-quickchart-complete');\n",
              "    }\n",
              "    (() => {\n",
              "      let quickchartButtonEl =\n",
              "        document.querySelector('#df-18806853-5c3b-49b0-8ac7-55a4aa803577 button');\n",
              "      quickchartButtonEl.style.display =\n",
              "        google.colab.kernel.accessAllowed ? 'block' : 'none';\n",
              "    })();\n",
              "  </script>\n",
              "</div>\n",
              "\n",
              "    </div>\n",
              "  </div>\n"
            ],
            "application/vnd.google.colaboratory.intrinsic+json": {
              "type": "dataframe",
              "variable_name": "df",
              "summary": "{\n  \"name\": \"df\",\n  \"rows\": 1000,\n  \"fields\": [\n    {\n      \"column\": \"Product_ID\",\n      \"properties\": {\n        \"dtype\": \"number\",\n        \"std\": 288,\n        \"min\": 1,\n        \"max\": 1000,\n        \"num_unique_values\": 1000,\n        \"samples\": [\n          522,\n          738,\n          741\n        ],\n        \"semantic_type\": \"\",\n        \"description\": \"\"\n      }\n    },\n    {\n      \"column\": \"Product_Name\",\n      \"properties\": {\n        \"dtype\": \"category\",\n        \"num_unique_values\": 7,\n        \"samples\": [\n          \"Book\",\n          \"Ticket\",\n          \"PS\"\n        ],\n        \"semantic_type\": \"\",\n        \"description\": \"\"\n      }\n    },\n    {\n      \"column\": \"Order_Date\",\n      \"properties\": {\n        \"dtype\": \"object\",\n        \"num_unique_values\": 630,\n        \"samples\": [\n          \"2023-07-18\",\n          \"2024-03-08\",\n          \"2022-10-18\"\n        ],\n        \"semantic_type\": \"\",\n        \"description\": \"\"\n      }\n    },\n    {\n      \"column\": \"Order_Price\",\n      \"properties\": {\n        \"dtype\": \"string\",\n        \"num_unique_values\": 792,\n        \"samples\": [\n          \"\\u20b9 830\",\n          \"\\u20b9 749\",\n          \"\\u20b9 1042\"\n        ],\n        \"semantic_type\": \"\",\n        \"description\": \"\"\n      }\n    },\n    {\n      \"column\": \"Order_Status\",\n      \"properties\": {\n        \"dtype\": \"category\",\n        \"num_unique_values\": 5,\n        \"samples\": [\n          \"shipped\",\n          \"not shipped\",\n          \"\"\n        ],\n        \"semantic_type\": \"\",\n        \"description\": \"\"\n      }\n    }\n  ]\n}"
            }
          },
          "metadata": {},
          "execution_count": 114
        }
      ]
    },
    {
      "cell_type": "code",
      "source": [
        "# saving it into csv to be used for spark operation\n",
        "df.to_csv('myDATA.csv', index = False)"
      ],
      "metadata": {
        "id": "XSs1ovpvkZGB"
      },
      "execution_count": 115,
      "outputs": []
    },
    {
      "cell_type": "markdown",
      "source": [
        "**Let's Spark Now :)**"
      ],
      "metadata": {
        "id": "0_3dmqVrzD-3"
      }
    },
    {
      "cell_type": "code",
      "source": [
        "# as we have alreading created a spark session, lets move forward\n",
        "# reading the csv file and loading it into a spark dataframe\n",
        "\n",
        "productDF = spark.read.csv('myDATA.csv', header = True, inferSchema = True)"
      ],
      "metadata": {
        "id": "HSG0QYNKkZDq"
      },
      "execution_count": 116,
      "outputs": []
    },
    {
      "cell_type": "code",
      "source": [
        "# lets see the schema of the spark dataframe\n",
        "productDF.printSchema()"
      ],
      "metadata": {
        "colab": {
          "base_uri": "https://localhost:8080/"
        },
        "id": "S6ET2h6J0Nz_",
        "outputId": "92246e53-842d-49f2-c6bb-c7b7e5b62907"
      },
      "execution_count": 117,
      "outputs": [
        {
          "output_type": "stream",
          "name": "stdout",
          "text": [
            "root\n",
            " |-- Product_ID: integer (nullable = true)\n",
            " |-- Product_Name: string (nullable = true)\n",
            " |-- Order_Date: string (nullable = true)\n",
            " |-- Order_Price: string (nullable = true)\n",
            " |-- Order_Status: string (nullable = true)\n",
            "\n"
          ]
        }
      ]
    },
    {
      "cell_type": "code",
      "source": [
        "# lets see top 10 rows\n",
        "productDF.show(10)"
      ],
      "metadata": {
        "colab": {
          "base_uri": "https://localhost:8080/"
        },
        "id": "HP0tBwFu0diq",
        "outputId": "df7844e5-72cd-40b7-ae0b-3ef84cb5b746"
      },
      "execution_count": 118,
      "outputs": [
        {
          "output_type": "stream",
          "name": "stdout",
          "text": [
            "+----------+------------+----------+-----------+----------------+\n",
            "|Product_ID|Product_Name|Order_Date|Order_Price|    Order_Status|\n",
            "+----------+------------+----------+-----------+----------------+\n",
            "|         1|        Book|2023-06-29|      ₹ 514|    out of stock|\n",
            "|         2|      Ticket|2021-10-28|     ₹ 2347|    out of stock|\n",
            "|         3|  Health-Kit|2021-07-10|     ₹ 1215|         shipped|\n",
            "|         4|       Watch|2021-09-17|     ₹ 1566|            null|\n",
            "|         5|     Console|2022-09-24|     ₹ 2037|out for delivery|\n",
            "|         6|          PS|2024-01-13|     ₹ 1752|     not shipped|\n",
            "|         7|      Ticket|2022-02-21|     ₹ 2338|            null|\n",
            "|         8|        null|2023-02-11|     ₹ 1585|out for delivery|\n",
            "|         9|       Watch|2021-07-31|      ₹ 769|out for delivery|\n",
            "|        10|        null|2022-07-05|     ₹ 2493|    out of stock|\n",
            "+----------+------------+----------+-----------+----------------+\n",
            "only showing top 10 rows\n",
            "\n"
          ]
        }
      ]
    },
    {
      "cell_type": "code",
      "source": [
        "# as we saw that order price is in string format, thus we cant perform any mathematical operation on that column\n",
        "# therefore, we have to create a new column which only consists of numbers and is in form of an integer\n",
        "# Data pre-processing\n",
        "productDF = productDF.withColumn('Product_price', productDF.Order_Price.substr(2, 10).cast('int'))"
      ],
      "metadata": {
        "id": "UoWtoCD-0df2"
      },
      "execution_count": 119,
      "outputs": []
    },
    {
      "cell_type": "code",
      "source": [
        "# lets check the data now\n",
        "productDF.show(5)"
      ],
      "metadata": {
        "colab": {
          "base_uri": "https://localhost:8080/"
        },
        "id": "f7DThR5e0ddW",
        "outputId": "d88fb517-a078-4e95-c0c9-63bbf5c2fd11"
      },
      "execution_count": 120,
      "outputs": [
        {
          "output_type": "stream",
          "name": "stdout",
          "text": [
            "+----------+------------+----------+-----------+----------------+-------------+\n",
            "|Product_ID|Product_Name|Order_Date|Order_Price|    Order_Status|Product_price|\n",
            "+----------+------------+----------+-----------+----------------+-------------+\n",
            "|         1|        Book|2023-06-29|      ₹ 514|    out of stock|          514|\n",
            "|         2|      Ticket|2021-10-28|     ₹ 2347|    out of stock|         2347|\n",
            "|         3|  Health-Kit|2021-07-10|     ₹ 1215|         shipped|         1215|\n",
            "|         4|       Watch|2021-09-17|     ₹ 1566|            null|         1566|\n",
            "|         5|     Console|2022-09-24|     ₹ 2037|out for delivery|         2037|\n",
            "+----------+------------+----------+-----------+----------------+-------------+\n",
            "only showing top 5 rows\n",
            "\n"
          ]
        }
      ]
    },
    {
      "cell_type": "code",
      "source": [
        "# now if you don't like python, pandas then you can leverage the power of pySpark to write SQL\n",
        "productDF.registerTempTable('productTable')"
      ],
      "metadata": {
        "id": "tgmTojDM0daT"
      },
      "execution_count": 121,
      "outputs": []
    },
    {
      "cell_type": "code",
      "source": [
        "# lets query the table\n",
        "qry = spark.sql('select * from productTable limit 5')\n",
        "qry.show()"
      ],
      "metadata": {
        "colab": {
          "base_uri": "https://localhost:8080/"
        },
        "id": "qke4gaNV0dXr",
        "outputId": "4c11410f-a4ab-4cf5-aa70-35f8d0301a3b"
      },
      "execution_count": 122,
      "outputs": [
        {
          "output_type": "stream",
          "name": "stdout",
          "text": [
            "+----------+------------+----------+-----------+----------------+-------------+\n",
            "|Product_ID|Product_Name|Order_Date|Order_Price|    Order_Status|Product_price|\n",
            "+----------+------------+----------+-----------+----------------+-------------+\n",
            "|         1|        Book|2023-06-29|      ₹ 514|    out of stock|          514|\n",
            "|         2|      Ticket|2021-10-28|     ₹ 2347|    out of stock|         2347|\n",
            "|         3|  Health-Kit|2021-07-10|     ₹ 1215|         shipped|         1215|\n",
            "|         4|       Watch|2021-09-17|     ₹ 1566|            null|         1566|\n",
            "|         5|     Console|2022-09-24|     ₹ 2037|out for delivery|         2037|\n",
            "+----------+------------+----------+-----------+----------------+-------------+\n",
            "\n"
          ]
        }
      ]
    },
    {
      "cell_type": "markdown",
      "source": [
        "**Check how many distinct products exist in our data**\n",
        "**Also, list them**"
      ],
      "metadata": {
        "id": "DUAezZuG6Vg5"
      }
    },
    {
      "cell_type": "code",
      "source": [
        "from pyspark.sql.functions import *\n",
        "# using pyspark\n",
        "distinctNames = productDF.filter(productDF[\"Product_Name\"].isNotNull())\n",
        "print(\"The number of distinct products are:\", distinctNames.select(countDistinct(\"Product_Name\")).collect()[0][0])\n",
        "print(\"The distinct products are:\")\n",
        "distinct_product_names = distinctNames.select(\"Product_Name\").distinct().show()"
      ],
      "metadata": {
        "colab": {
          "base_uri": "https://localhost:8080/"
        },
        "id": "jVtyY4JK7_vx",
        "outputId": "2b41f904-abd6-49cf-dd00-be816d9dd4a5"
      },
      "execution_count": 123,
      "outputs": [
        {
          "output_type": "stream",
          "name": "stdout",
          "text": [
            "The number of distinct products are: 6\n",
            "The distinct products are:\n",
            "+------------+\n",
            "|Product_Name|\n",
            "+------------+\n",
            "|          PS|\n",
            "|      Ticket|\n",
            "|        Book|\n",
            "|     Console|\n",
            "|  Health-Kit|\n",
            "|       Watch|\n",
            "+------------+\n",
            "\n"
          ]
        }
      ]
    },
    {
      "cell_type": "code",
      "source": [
        "# using SQL\n",
        "\n",
        "qry = spark.sql('SELECT COUNT(DISTINCT Product_Name) AS PRODUCTS FROM productTable WHERE PRODUCT_NAME IS NOT NULL')\n",
        "print(\"The number of distinct products are:\")\n",
        "qry.show()\n",
        "\n",
        "qry = spark.sql('SELECT DISTINCT Product_Name FROM productTable WHERE PRODUCT_NAME IS NOT NULL')\n",
        "print(\"The distinct products are:\")\n",
        "qry.show()"
      ],
      "metadata": {
        "colab": {
          "base_uri": "https://localhost:8080/"
        },
        "id": "0OESJzWr0dUj",
        "outputId": "2367ce9b-5276-4c50-b04b-75d70e3826f0"
      },
      "execution_count": 124,
      "outputs": [
        {
          "output_type": "stream",
          "name": "stdout",
          "text": [
            "The number of distinct products are:\n",
            "+--------+\n",
            "|PRODUCTS|\n",
            "+--------+\n",
            "|       6|\n",
            "+--------+\n",
            "\n",
            "The distinct products are:\n",
            "+------------+\n",
            "|Product_Name|\n",
            "+------------+\n",
            "|          PS|\n",
            "|      Ticket|\n",
            "|        Book|\n",
            "|     Console|\n",
            "|  Health-Kit|\n",
            "|       Watch|\n",
            "+------------+\n",
            "\n"
          ]
        }
      ]
    },
    {
      "cell_type": "code",
      "source": [
        "# let's describe the df\n",
        "productDF.describe().show()"
      ],
      "metadata": {
        "colab": {
          "base_uri": "https://localhost:8080/"
        },
        "id": "dnzbYlEE0dPa",
        "outputId": "934fc666-8713-43fd-ced7-74660dbe36cd"
      },
      "execution_count": 125,
      "outputs": [
        {
          "output_type": "stream",
          "name": "stdout",
          "text": [
            "+-------+-----------------+------------+----------+-----------+------------+-----------------+\n",
            "|summary|       Product_ID|Product_Name|Order_Date|Order_Price|Order_Status|    Product_price|\n",
            "+-------+-----------------+------------+----------+-----------+------------+-----------------+\n",
            "|  count|             1000|         872|      1000|       1000|         818|             1000|\n",
            "|   mean|            500.5|        null|      null|       null|        null|         1489.867|\n",
            "| stddev|288.8194360957494|        null|      null|       null|        null|583.4242462926633|\n",
            "|    min|                1|        Book|2021-07-10|     ₹ 1000| not shipped|              502|\n",
            "|    max|             1000|       Watch|2024-04-05|      ₹ 997|     shipped|             2498|\n",
            "+-------+-----------------+------------+----------+-----------+------------+-----------------+\n",
            "\n"
          ]
        }
      ]
    },
    {
      "cell_type": "code",
      "source": [
        "# there may be a situation that the price column might contain null values\n",
        "# let's replace the null values with the mean value of the price\n",
        "avgPrice = productDF.select(mean('Product_price')).collect()[0][0]\n",
        "productDF = productDF.fillna(avgPrice, subset = ['Product_price'])\n",
        "productDF.show(5)"
      ],
      "metadata": {
        "colab": {
          "base_uri": "https://localhost:8080/"
        },
        "id": "Wj2RAiuB0dK2",
        "outputId": "aa3fd39f-80a1-4955-80d2-1fb7475fea82"
      },
      "execution_count": 126,
      "outputs": [
        {
          "output_type": "stream",
          "name": "stdout",
          "text": [
            "+----------+------------+----------+-----------+----------------+-------------+\n",
            "|Product_ID|Product_Name|Order_Date|Order_Price|    Order_Status|Product_price|\n",
            "+----------+------------+----------+-----------+----------------+-------------+\n",
            "|         1|        Book|2023-06-29|      ₹ 514|    out of stock|          514|\n",
            "|         2|      Ticket|2021-10-28|     ₹ 2347|    out of stock|         2347|\n",
            "|         3|  Health-Kit|2021-07-10|     ₹ 1215|         shipped|         1215|\n",
            "|         4|       Watch|2021-09-17|     ₹ 1566|            null|         1566|\n",
            "|         5|     Console|2022-09-24|     ₹ 2037|out for delivery|         2037|\n",
            "+----------+------------+----------+-----------+----------------+-------------+\n",
            "only showing top 5 rows\n",
            "\n"
          ]
        }
      ]
    },
    {
      "cell_type": "code",
      "source": [
        "'''now we just received a news that the rows where product name and order status is null,\n",
        "those rows should not be considered into our analysis'''\n",
        "print(\"the number of rows before filtering:\", productDF.count())\n",
        "productDF = productDF.filter((productDF[\"Product_Name\"].isNotNull()) & (productDF[\"Order_Status\"].isNotNull()))\n",
        "print(\"the number of rows after filtering:\", productDF.count())\n"
      ],
      "metadata": {
        "colab": {
          "base_uri": "https://localhost:8080/"
        },
        "id": "rI8-YWt_GCks",
        "outputId": "d78d656d-c1ce-4dc9-9b2f-782c786b4e57"
      },
      "execution_count": 127,
      "outputs": [
        {
          "output_type": "stream",
          "name": "stdout",
          "text": [
            "the number of rows before filtering: 1000\n",
            "the number of rows after filtering: 707\n"
          ]
        }
      ]
    },
    {
      "cell_type": "code",
      "source": [
        "# you can see, we have removed 293 irrelevant rows\n",
        "# as we have made changes to our dataframe, we have to change our sql Table as well.\n",
        "productDF.registerTempTable('productTable')"
      ],
      "metadata": {
        "id": "BNSgA2bzGChj"
      },
      "execution_count": 128,
      "outputs": []
    },
    {
      "cell_type": "markdown",
      "source": [
        "**now lets find out the total order price for all the products and order it by total price in descending order**"
      ],
      "metadata": {
        "id": "lvED1cyaHNUz"
      }
    },
    {
      "cell_type": "code",
      "source": [
        "# using pyspark\n",
        "tempDF = productDF.groupBy('Product_name').agg(sum('Product_Price').alias('Total_Price'))\n",
        "tempDF.sort(col('Total_Price').desc()).show()\n",
        "'''\n",
        "works same as above\n",
        "qry_df = productDF.groupBy(\"Product_name\").agg(sum(\"Product_Price\").alias(\"Total_Price\")).orderBy(\"Total_Price\", ascending=False)\n",
        "qry_df.show()\n",
        "'''"
      ],
      "metadata": {
        "colab": {
          "base_uri": "https://localhost:8080/",
          "height": 253
        },
        "id": "0X8AHae2GCeM",
        "outputId": "3aeb213f-9a15-45f8-aca7-d0755e2672e8"
      },
      "execution_count": 129,
      "outputs": [
        {
          "output_type": "stream",
          "name": "stdout",
          "text": [
            "+------------+-----------+\n",
            "|Product_name|Total_Price|\n",
            "+------------+-----------+\n",
            "|      Ticket|     191118|\n",
            "|       Watch|     178711|\n",
            "|        Book|     173077|\n",
            "|  Health-Kit|     172519|\n",
            "|     Console|     168919|\n",
            "|          PS|     166459|\n",
            "+------------+-----------+\n",
            "\n"
          ]
        },
        {
          "output_type": "execute_result",
          "data": {
            "text/plain": [
              "'\\nworks same as above\\nqry_df = productDF.groupBy(\"Product_name\").agg(sum(\"Product_Price\").alias(\"Total_Price\")).orderBy(\"Total_Price\", ascending=False)\\nqry_df.show()\\n'"
            ],
            "application/vnd.google.colaboratory.intrinsic+json": {
              "type": "string"
            }
          },
          "metadata": {},
          "execution_count": 129
        }
      ]
    },
    {
      "cell_type": "code",
      "source": [
        "# using sql\n",
        "qry = spark.sql('SELECT Product_Name, SUM(Product_price) AS Total_Price FROM productTable GROUP BY 1 ORDER BY 2 DESC')\n",
        "qry.show()"
      ],
      "metadata": {
        "colab": {
          "base_uri": "https://localhost:8080/"
        },
        "id": "9lVvGfRAGCai",
        "outputId": "a05f14ea-de6e-4de0-ed47-304015c5ee1e"
      },
      "execution_count": 130,
      "outputs": [
        {
          "output_type": "stream",
          "name": "stdout",
          "text": [
            "+------------+-----------+\n",
            "|Product_Name|Total_Price|\n",
            "+------------+-----------+\n",
            "|      Ticket|     191118|\n",
            "|       Watch|     178711|\n",
            "|        Book|     173077|\n",
            "|  Health-Kit|     172519|\n",
            "|     Console|     168919|\n",
            "|          PS|     166459|\n",
            "+------------+-----------+\n",
            "\n"
          ]
        }
      ]
    },
    {
      "cell_type": "markdown",
      "source": [
        "**lets find out distribution of order status, order by order status in ascending.**\n",
        "\n",
        "**(round distribution to 2 decimal)**"
      ],
      "metadata": {
        "id": "RwCQtQ_Ma252"
      }
    },
    {
      "cell_type": "code",
      "source": [
        "tempDF = productDF.groupBy('Order_Status').agg(\n",
        "    round(((count(\"*\")/productDF.count())*100), 2).alias('Distribution')\n",
        ")\n",
        "tempDF.orderBy(\"Order_Status\", ascending=True).show()"
      ],
      "metadata": {
        "colab": {
          "base_uri": "https://localhost:8080/"
        },
        "id": "h79ykERkGCWZ",
        "outputId": "4ed79d4a-a7fa-4912-c9fb-0083ef2be624"
      },
      "execution_count": 131,
      "outputs": [
        {
          "output_type": "stream",
          "name": "stdout",
          "text": [
            "+----------------+------------+\n",
            "|    Order_Status|Distribution|\n",
            "+----------------+------------+\n",
            "|     not shipped|       24.61|\n",
            "|out for delivery|        27.3|\n",
            "|    out of stock|       25.88|\n",
            "|         shipped|       22.21|\n",
            "+----------------+------------+\n",
            "\n"
          ]
        }
      ]
    },
    {
      "cell_type": "code",
      "source": [
        "# using sql\n",
        "qry = spark.sql(\"\"\"\n",
        "    SELECT Order_Status,\n",
        "      ROUND((COUNT(Order_Status)/(SELECT COUNT(Order_Status) From productTable))*100, 2) AS Distribution\n",
        "    FROM productTable\n",
        "    GROUP BY 1\n",
        "    ORDER BY 1\n",
        "\"\"\")\n",
        "qry.show()"
      ],
      "metadata": {
        "colab": {
          "base_uri": "https://localhost:8080/"
        },
        "id": "2QHaiaDYbGBd",
        "outputId": "77be4387-c559-435e-e71f-b12e9cead4d9"
      },
      "execution_count": 132,
      "outputs": [
        {
          "output_type": "stream",
          "name": "stdout",
          "text": [
            "+----------------+------------+\n",
            "|    Order_Status|Distribution|\n",
            "+----------------+------------+\n",
            "|     not shipped|       24.61|\n",
            "|out for delivery|        27.3|\n",
            "|    out of stock|       25.88|\n",
            "|         shipped|       22.21|\n",
            "+----------------+------------+\n",
            "\n"
          ]
        }
      ]
    },
    {
      "cell_type": "markdown",
      "source": [
        "**adding a new column (Priority): if price > 2000, then flag the column as Yes otherwise No**"
      ],
      "metadata": {
        "id": "Qi-NkV2htiJB"
      }
    },
    {
      "cell_type": "code",
      "source": [
        "# using spark\n",
        "tempDF = productDF.withColumn('Priority', when(productDF.Product_price > 2000, 'Yes').otherwise('No'))\n",
        "productDF.show(10)"
      ],
      "metadata": {
        "colab": {
          "base_uri": "https://localhost:8080/"
        },
        "id": "vPcLaxv2bF-3",
        "outputId": "42dcb771-0375-4990-a4a4-5639c4f2a975"
      },
      "execution_count": 133,
      "outputs": [
        {
          "output_type": "stream",
          "name": "stdout",
          "text": [
            "+----------+------------+----------+-----------+----------------+-------------+\n",
            "|Product_ID|Product_Name|Order_Date|Order_Price|    Order_Status|Product_price|\n",
            "+----------+------------+----------+-----------+----------------+-------------+\n",
            "|         1|        Book|2023-06-29|      ₹ 514|    out of stock|          514|\n",
            "|         2|      Ticket|2021-10-28|     ₹ 2347|    out of stock|         2347|\n",
            "|         3|  Health-Kit|2021-07-10|     ₹ 1215|         shipped|         1215|\n",
            "|         5|     Console|2022-09-24|     ₹ 2037|out for delivery|         2037|\n",
            "|         6|          PS|2024-01-13|     ₹ 1752|     not shipped|         1752|\n",
            "|         9|       Watch|2021-07-31|      ₹ 769|out for delivery|          769|\n",
            "|        11|     Console|2021-10-30|     ₹ 2025|         shipped|         2025|\n",
            "|        12|          PS|2023-10-09|      ₹ 881|    out of stock|          881|\n",
            "|        13|       Watch|2022-11-18|      ₹ 970|     not shipped|          970|\n",
            "|        14|      Ticket|2022-12-03|     ₹ 1376|         shipped|         1376|\n",
            "+----------+------------+----------+-----------+----------------+-------------+\n",
            "only showing top 10 rows\n",
            "\n"
          ]
        }
      ]
    },
    {
      "cell_type": "code",
      "source": [
        "# using sql\n",
        "# here we can't add it to the actual table, but we can still query it\n",
        "qry = spark.sql(\"\"\"\n",
        "    SELECT *,\n",
        "      CASE WHEN product_price > 2000 THEN 'Yes' Else 'No'\n",
        "      END AS Priority\n",
        "    FROM productTable\n",
        "\"\"\")\n",
        "qry.show(10)"
      ],
      "metadata": {
        "colab": {
          "base_uri": "https://localhost:8080/"
        },
        "id": "zogLyG2tbF8H",
        "outputId": "57ad705f-0a5a-4176-b6b4-ba2a75061aee"
      },
      "execution_count": 134,
      "outputs": [
        {
          "output_type": "stream",
          "name": "stdout",
          "text": [
            "+----------+------------+----------+-----------+----------------+-------------+--------+\n",
            "|Product_ID|Product_Name|Order_Date|Order_Price|    Order_Status|Product_price|Priority|\n",
            "+----------+------------+----------+-----------+----------------+-------------+--------+\n",
            "|         1|        Book|2023-06-29|      ₹ 514|    out of stock|          514|      No|\n",
            "|         2|      Ticket|2021-10-28|     ₹ 2347|    out of stock|         2347|     Yes|\n",
            "|         3|  Health-Kit|2021-07-10|     ₹ 1215|         shipped|         1215|      No|\n",
            "|         5|     Console|2022-09-24|     ₹ 2037|out for delivery|         2037|     Yes|\n",
            "|         6|          PS|2024-01-13|     ₹ 1752|     not shipped|         1752|      No|\n",
            "|         9|       Watch|2021-07-31|      ₹ 769|out for delivery|          769|      No|\n",
            "|        11|     Console|2021-10-30|     ₹ 2025|         shipped|         2025|     Yes|\n",
            "|        12|          PS|2023-10-09|      ₹ 881|    out of stock|          881|      No|\n",
            "|        13|       Watch|2022-11-18|      ₹ 970|     not shipped|          970|      No|\n",
            "|        14|      Ticket|2022-12-03|     ₹ 1376|         shipped|         1376|      No|\n",
            "+----------+------------+----------+-----------+----------------+-------------+--------+\n",
            "only showing top 10 rows\n",
            "\n"
          ]
        }
      ]
    },
    {
      "cell_type": "markdown",
      "source": [
        "**avg product price based on year**"
      ],
      "metadata": {
        "id": "vGBGx7viv83a"
      }
    },
    {
      "cell_type": "code",
      "source": [
        "productDF.select('order_date').show(5)"
      ],
      "metadata": {
        "colab": {
          "base_uri": "https://localhost:8080/"
        },
        "id": "lV597HyGbF5o",
        "outputId": "b7660411-115c-41f1-84dd-3d687d5c0fa0"
      },
      "execution_count": 135,
      "outputs": [
        {
          "output_type": "stream",
          "name": "stdout",
          "text": [
            "+----------+\n",
            "|order_date|\n",
            "+----------+\n",
            "|2023-06-29|\n",
            "|2021-10-28|\n",
            "|2021-07-10|\n",
            "|2022-09-24|\n",
            "|2024-01-13|\n",
            "+----------+\n",
            "only showing top 5 rows\n",
            "\n"
          ]
        }
      ]
    },
    {
      "cell_type": "code",
      "source": [
        "# using pyspark\n",
        "tempDF = productDF.withColumn('Ord_Date', to_date(col('Order_Date')))\n",
        "tempDF = tempDF.groupBy(year('Ord_Date').alias('Year')).agg(avg('Product_price').alias('avg_price'))\n",
        "tempDF.show()"
      ],
      "metadata": {
        "colab": {
          "base_uri": "https://localhost:8080/"
        },
        "id": "39RpZFPowFIR",
        "outputId": "96a0292d-31e0-45e1-a2a5-855db39d9496"
      },
      "execution_count": 138,
      "outputs": [
        {
          "output_type": "stream",
          "name": "stdout",
          "text": [
            "+----+------------------+\n",
            "|Year|         avg_price|\n",
            "+----+------------------+\n",
            "|2023|1515.1433823529412|\n",
            "|2022|1415.9473684210527|\n",
            "|2024|1534.0243902439024|\n",
            "|2021|          1520.464|\n",
            "+----+------------------+\n",
            "\n"
          ]
        }
      ]
    },
    {
      "cell_type": "code",
      "source": [
        "# using sql\n",
        "qry = spark.sql(\"\"\"\n",
        "    SELECT YEAR(order_date) AS year,\n",
        "      AVG(Product_Price) AS avg_price\n",
        "    FROM productTable\n",
        "    GROUP BY 1\n",
        "\"\"\")\n",
        "qry.show()"
      ],
      "metadata": {
        "colab": {
          "base_uri": "https://localhost:8080/"
        },
        "id": "ZSXHaEYUwFEa",
        "outputId": "570644a2-a65f-4c0f-e469-b7d2643bbe72"
      },
      "execution_count": 139,
      "outputs": [
        {
          "output_type": "stream",
          "name": "stdout",
          "text": [
            "+----+------------------+\n",
            "|year|         avg_price|\n",
            "+----+------------------+\n",
            "|2023|1515.1433823529412|\n",
            "|2022|1415.9473684210527|\n",
            "|2024|1534.0243902439024|\n",
            "|2021|          1520.464|\n",
            "+----+------------------+\n",
            "\n"
          ]
        }
      ]
    },
    {
      "cell_type": "markdown",
      "source": [
        "**show the most products for all the order status**\n",
        "\n",
        "**(TOUGH ONE)**"
      ],
      "metadata": {
        "id": "HHsnt32myiFE"
      }
    },
    {
      "cell_type": "code",
      "source": [
        "from pyspark.sql.window import Window\n",
        "\n",
        "order_product_group = productDF.groupBy(\"Order_Status\", \"Product_Name\").count()\n",
        "window_ = Window.partitionBy('Order_Status').orderBy(desc('count'))\n",
        "\n",
        "order_product_group = order_product_group.withColumn(\"rank\", row_number().over(window_))\n",
        "\n",
        "order_product_group = order_product_group.filter(\"rank = 1\")\n",
        "\n",
        "order_product_group.select(['Order_Status', 'Product_Name', 'count']).show()"
      ],
      "metadata": {
        "colab": {
          "base_uri": "https://localhost:8080/"
        },
        "id": "QWUtAu1VwFB8",
        "outputId": "7fa131c3-7c7c-491f-b40b-edfc5546022c"
      },
      "execution_count": 145,
      "outputs": [
        {
          "output_type": "stream",
          "name": "stdout",
          "text": [
            "+----------------+------------+-----+\n",
            "|    Order_Status|Product_Name|count|\n",
            "+----------------+------------+-----+\n",
            "|    out of stock|       Watch|   42|\n",
            "|         shipped|      Ticket|   34|\n",
            "|     not shipped|      Ticket|   37|\n",
            "|out for delivery|          PS|   35|\n",
            "+----------------+------------+-----+\n",
            "\n"
          ]
        }
      ]
    },
    {
      "cell_type": "code",
      "source": [
        "# using sql\n",
        "qry = spark.sql(\"\"\"\n",
        "    SELECT Order_Status, Product_Name, count,\n",
        "           ROW_NUMBER() OVER (PARTITION BY Order_Status ORDER BY count DESC) AS rank\n",
        "    FROM (\n",
        "        SELECT Order_Status, Product_Name, COUNT(*) AS count\n",
        "        FROM productTable\n",
        "        GROUP BY Order_Status, Product_Name\n",
        "    ) temp\n",
        "\"\"\")\n",
        "sql_df = qry.filter(\"rank = 1\")\n",
        "sql_df.select(['Order_Status', 'Product_Name', 'count']).show()"
      ],
      "metadata": {
        "colab": {
          "base_uri": "https://localhost:8080/"
        },
        "id": "AMY6R__wwE7J",
        "outputId": "44ee37f0-87e3-4379-ca9b-68f14523f227"
      },
      "execution_count": 140,
      "outputs": [
        {
          "output_type": "stream",
          "name": "stdout",
          "text": [
            "+----------------+------------+-----+\n",
            "|    Order_Status|Product_Name|count|\n",
            "+----------------+------------+-----+\n",
            "|    out of stock|       Watch|   42|\n",
            "|         shipped|      Ticket|   34|\n",
            "|     not shipped|      Ticket|   37|\n",
            "|out for delivery|          PS|   35|\n",
            "+----------------+------------+-----+\n",
            "\n"
          ]
        }
      ]
    },
    {
      "cell_type": "code",
      "source": [
        "# using sql\n",
        "qry = spark.sql(\"\"\"\n",
        "    SELECT *,\n",
        "      ROW_NUMBER() OVER (PARTITION BY Order_Status ORDER BY count DESC) as rn\n",
        "    FROM (\n",
        "        SELECT Order_Status, Product_Name, COUNT(*) AS count\n",
        "        FROM productTable\n",
        "        GROUP BY Order_Status, Product_Name\n",
        "        order by 1, 3 desc\n",
        "    ) temp\n",
        "\"\"\")\n",
        "qry.show()"
      ],
      "metadata": {
        "colab": {
          "base_uri": "https://localhost:8080/"
        },
        "id": "rIJjiB78wE4I",
        "outputId": "9143ae9b-4976-4215-d84b-f2e42f69d399"
      },
      "execution_count": 163,
      "outputs": [
        {
          "output_type": "stream",
          "name": "stdout",
          "text": [
            "+----------------+------------+-----+---+\n",
            "|    Order_Status|Product_Name|count| rn|\n",
            "+----------------+------------+-----+---+\n",
            "|    out of stock|       Watch|   42|  1|\n",
            "|    out of stock|  Health-Kit|   33|  2|\n",
            "|    out of stock|      Ticket|   31|  3|\n",
            "|    out of stock|          PS|   28|  4|\n",
            "|    out of stock|        Book|   25|  5|\n",
            "|    out of stock|     Console|   24|  6|\n",
            "|         shipped|      Ticket|   34|  1|\n",
            "|         shipped|  Health-Kit|   29|  2|\n",
            "|         shipped|        Book|   28|  3|\n",
            "|         shipped|     Console|   28|  4|\n",
            "|         shipped|       Watch|   20|  5|\n",
            "|         shipped|          PS|   18|  6|\n",
            "|     not shipped|      Ticket|   37|  1|\n",
            "|     not shipped|        Book|   32|  2|\n",
            "|     not shipped|          PS|   31|  3|\n",
            "|     not shipped|  Health-Kit|   29|  4|\n",
            "|     not shipped|       Watch|   23|  5|\n",
            "|     not shipped|     Console|   22|  6|\n",
            "|out for delivery|          PS|   35|  1|\n",
            "|out for delivery|     Console|   34|  2|\n",
            "+----------------+------------+-----+---+\n",
            "only showing top 20 rows\n",
            "\n"
          ]
        }
      ]
    },
    {
      "cell_type": "code",
      "source": [
        "# lets see how our dataframe looks\n",
        "productDF.show(5)"
      ],
      "metadata": {
        "colab": {
          "base_uri": "https://localhost:8080/"
        },
        "id": "iygu2qSnN3ZE",
        "outputId": "2e5a67ad-5586-4543-e368-e02595bdc11b"
      },
      "execution_count": 164,
      "outputs": [
        {
          "output_type": "stream",
          "name": "stdout",
          "text": [
            "+----------+------------+----------+-----------+----------------+-------------+\n",
            "|Product_ID|Product_Name|Order_Date|Order_Price|    Order_Status|Product_price|\n",
            "+----------+------------+----------+-----------+----------------+-------------+\n",
            "|         1|        Book|2023-06-29|      ₹ 514|    out of stock|          514|\n",
            "|         2|      Ticket|2021-10-28|     ₹ 2347|    out of stock|         2347|\n",
            "|         3|  Health-Kit|2021-07-10|     ₹ 1215|         shipped|         1215|\n",
            "|         5|     Console|2022-09-24|     ₹ 2037|out for delivery|         2037|\n",
            "|         6|          PS|2024-01-13|     ₹ 1752|     not shipped|         1752|\n",
            "+----------+------------+----------+-----------+----------------+-------------+\n",
            "only showing top 5 rows\n",
            "\n"
          ]
        }
      ]
    },
    {
      "cell_type": "code",
      "source": [
        "'''\n",
        "for this part, this much is enough\n",
        "lets export our park dataframe into a csv so that it can be used for the next time\n",
        "'''\n",
        "productPD = productDF.toPandas()\n",
        "productPD.to_csv('products.csv', header = True, index = False)"
      ],
      "metadata": {
        "id": "1kZS1fszN3V8"
      },
      "execution_count": 177,
      "outputs": []
    }
  ]
}