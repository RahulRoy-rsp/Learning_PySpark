{
  "nbformat": 4,
  "nbformat_minor": 0,
  "metadata": {
    "colab": {
      "provenance": []
    },
    "kernelspec": {
      "name": "python3",
      "display_name": "Python 3"
    },
    "language_info": {
      "name": "python"
    }
  },
  "cells": [
    {
      "cell_type": "code",
      "execution_count": 1,
      "metadata": {
        "colab": {
          "base_uri": "https://localhost:8080/"
        },
        "id": "F73JBLY17Niu",
        "outputId": "fb84f671-bb95-4c39-b9a2-e67283588c91"
      },
      "outputs": [
        {
          "output_type": "stream",
          "name": "stdout",
          "text": [
            "Requirement already satisfied: pyspark in /usr/local/lib/python3.11/dist-packages (3.5.5)\n",
            "Requirement already satisfied: py4j==0.10.9.7 in /usr/local/lib/python3.11/dist-packages (from pyspark) (0.10.9.7)\n"
          ]
        }
      ],
      "source": [
        "!pip install pyspark"
      ]
    },
    {
      "cell_type": "code",
      "source": [
        "!pip install -q findspark"
      ],
      "metadata": {
        "id": "C0HINdSw7QFm"
      },
      "execution_count": 2,
      "outputs": []
    },
    {
      "cell_type": "code",
      "source": [
        "import findspark\n",
        "findspark.init()"
      ],
      "metadata": {
        "id": "-iL5-bU57ReE"
      },
      "execution_count": 3,
      "outputs": []
    },
    {
      "cell_type": "code",
      "source": [
        "# creating a spark session that will be used to perform all the necessary task on Spark\n",
        "from pyspark.sql import SparkSession\n",
        "spark = SparkSession.builder.master(\"local[*]\").appName('df-functions-solutions').getOrCreate()\n",
        "spark"
      ],
      "metadata": {
        "colab": {
          "base_uri": "https://localhost:8080/",
          "height": 222
        },
        "id": "JVo62kWn7Suf",
        "outputId": "1cc4b17f-e090-4211-8bea-aa37db71ad08"
      },
      "execution_count": 4,
      "outputs": [
        {
          "output_type": "execute_result",
          "data": {
            "text/plain": [
              "<pyspark.sql.session.SparkSession at 0x7eb50130f9d0>"
            ],
            "text/html": [
              "\n",
              "            <div>\n",
              "                <p><b>SparkSession - in-memory</b></p>\n",
              "                \n",
              "        <div>\n",
              "            <p><b>SparkContext</b></p>\n",
              "\n",
              "            <p><a href=\"http://786dc554981a:4040\">Spark UI</a></p>\n",
              "\n",
              "            <dl>\n",
              "              <dt>Version</dt>\n",
              "                <dd><code>v3.5.5</code></dd>\n",
              "              <dt>Master</dt>\n",
              "                <dd><code>local[*]</code></dd>\n",
              "              <dt>AppName</dt>\n",
              "                <dd><code>df-functions-solutions</code></dd>\n",
              "            </dl>\n",
              "        </div>\n",
              "        \n",
              "            </div>\n",
              "        "
            ]
          },
          "metadata": {},
          "execution_count": 4
        }
      ]
    },
    {
      "cell_type": "markdown",
      "source": [
        "# EXERCISE 1: WINDOW FUNCTIONS"
      ],
      "metadata": {
        "id": "Ctj-LQjE7aN3"
      }
    },
    {
      "cell_type": "markdown",
      "source": [
        "**1. Create a DataFrame with specific columns and datatypes.**\n",
        "\n",
        "**2. Insert records**\n",
        "\n",
        "**3. Show dataframe.**"
      ],
      "metadata": {
        "id": "5LKINR8u7b3v"
      }
    },
    {
      "cell_type": "code",
      "source": [
        "from pyspark.sql.types import StructType, StructField, StringType, IntegerType\n",
        "\n",
        "# Defining the schema\n",
        "schema = StructType([\n",
        "    StructField(\"player_name\", StringType(), True),\n",
        "    StructField(\"team_name\", StringType(), True),\n",
        "    StructField(\"matches_played\", IntegerType(), True),\n",
        "    StructField(\"runs_scored\", IntegerType(), True)\n",
        "])\n",
        "\n",
        "# data for the dataframe\n",
        "data = [\n",
        "   (\"Tim David\", \"Singapore\", 41, 1260),\n",
        "   (\"Peter Clarke\", \"Zimbabwe\", 3, 45),\n",
        "   (\"Devon Conway\", \"South Africa\", 77, 2567),\n",
        "   (\"Glenn Philips\", \"South Africa\", 48, 1126),\n",
        "   (\"Eoin Morgan\", \"Ireland\", 215, 4015),\n",
        "   (\"Rachin Ravindra\", \"India\", 58, 1789),\n",
        "   (\"Sam Curran\", \"Zimbabwe\", 97, 1673),\n",
        "   (\"Jason Sangha\", \"India\", 19, 153),\n",
        "   (\"Brandon Taylor\", \"Zimbabwe\", 49, 1673)\n",
        " ]\n",
        "\n",
        "# Creating the DataFrame\n",
        "df1 = spark.createDataFrame(data, schema=schema)\n",
        "\n",
        "df1.show()"
      ],
      "metadata": {
        "colab": {
          "base_uri": "https://localhost:8080/"
        },
        "id": "TBCskFDG7WeG",
        "outputId": "32c1606e-e69f-4584-a55e-36a2ad3d7d65"
      },
      "execution_count": 5,
      "outputs": [
        {
          "output_type": "stream",
          "name": "stdout",
          "text": [
            "+---------------+------------+--------------+-----------+\n",
            "|    player_name|   team_name|matches_played|runs_scored|\n",
            "+---------------+------------+--------------+-----------+\n",
            "|      Tim David|   Singapore|            41|       1260|\n",
            "|   Peter Clarke|    Zimbabwe|             3|         45|\n",
            "|   Devon Conway|South Africa|            77|       2567|\n",
            "|  Glenn Philips|South Africa|            48|       1126|\n",
            "|    Eoin Morgan|     Ireland|           215|       4015|\n",
            "|Rachin Ravindra|       India|            58|       1789|\n",
            "|     Sam Curran|    Zimbabwe|            97|       1673|\n",
            "|   Jason Sangha|       India|            19|        153|\n",
            "| Brandon Taylor|    Zimbabwe|            49|       1673|\n",
            "+---------------+------------+--------------+-----------+\n",
            "\n"
          ]
        }
      ]
    },
    {
      "cell_type": "markdown",
      "source": [
        "**4. Add a new column `row_num` that assigns a unique row number for each `team_name` ordered by `runs_scored` in descending order.**\n",
        "\n",
        "**5. Show the dataframe.**"
      ],
      "metadata": {
        "id": "eieLVtjV8wCf"
      }
    },
    {
      "cell_type": "code",
      "source": [
        "from pyspark.sql import functions as F\n",
        "from pyspark.sql.window import Window\n",
        "\n",
        "runs_scored_by_team_window = Window.partitionBy(\"team_name\").orderBy(df1.runs_scored.desc())\n",
        "df1 = df1.withColumn(\"row_num\", F.row_number().over(runs_scored_by_team_window))\n",
        "\n",
        "df1.show()"
      ],
      "metadata": {
        "colab": {
          "base_uri": "https://localhost:8080/"
        },
        "id": "RZxsDD1L812b",
        "outputId": "34469a03-2fd7-4c9a-b2e6-dba8cf6b7ec5"
      },
      "execution_count": 6,
      "outputs": [
        {
          "output_type": "stream",
          "name": "stdout",
          "text": [
            "+---------------+------------+--------------+-----------+-------+\n",
            "|    player_name|   team_name|matches_played|runs_scored|row_num|\n",
            "+---------------+------------+--------------+-----------+-------+\n",
            "|Rachin Ravindra|       India|            58|       1789|      1|\n",
            "|   Jason Sangha|       India|            19|        153|      2|\n",
            "|    Eoin Morgan|     Ireland|           215|       4015|      1|\n",
            "|      Tim David|   Singapore|            41|       1260|      1|\n",
            "|   Devon Conway|South Africa|            77|       2567|      1|\n",
            "|  Glenn Philips|South Africa|            48|       1126|      2|\n",
            "|     Sam Curran|    Zimbabwe|            97|       1673|      1|\n",
            "| Brandon Taylor|    Zimbabwe|            49|       1673|      2|\n",
            "|   Peter Clarke|    Zimbabwe|             3|         45|      3|\n",
            "+---------------+------------+--------------+-----------+-------+\n",
            "\n"
          ]
        }
      ]
    },
    {
      "cell_type": "markdown",
      "source": [
        "**6. Add a new column `rank_v1` that ranks players within their `team_name` based on `runs_scored` (ties will have the same rank, but gaps exist).**\n",
        "\n",
        "**7. Show the Dataframe.**"
      ],
      "metadata": {
        "id": "inxSo31i7ZZF"
      }
    },
    {
      "cell_type": "code",
      "source": [
        "df1 = df1.withColumn(\"rank_v1\", F.rank().over(runs_scored_by_team_window))\n",
        "\n",
        "df1.show()"
      ],
      "metadata": {
        "colab": {
          "base_uri": "https://localhost:8080/"
        },
        "id": "A8ViJ7W39Dta",
        "outputId": "622c742d-e6d8-4131-bf9c-95567d6070f2"
      },
      "execution_count": 7,
      "outputs": [
        {
          "output_type": "stream",
          "name": "stdout",
          "text": [
            "+---------------+------------+--------------+-----------+-------+-------+\n",
            "|    player_name|   team_name|matches_played|runs_scored|row_num|rank_v1|\n",
            "+---------------+------------+--------------+-----------+-------+-------+\n",
            "|Rachin Ravindra|       India|            58|       1789|      1|      1|\n",
            "|   Jason Sangha|       India|            19|        153|      2|      2|\n",
            "|    Eoin Morgan|     Ireland|           215|       4015|      1|      1|\n",
            "|      Tim David|   Singapore|            41|       1260|      1|      1|\n",
            "|   Devon Conway|South Africa|            77|       2567|      1|      1|\n",
            "|  Glenn Philips|South Africa|            48|       1126|      2|      2|\n",
            "|     Sam Curran|    Zimbabwe|            97|       1673|      1|      1|\n",
            "| Brandon Taylor|    Zimbabwe|            49|       1673|      2|      1|\n",
            "|   Peter Clarke|    Zimbabwe|             3|         45|      3|      3|\n",
            "+---------------+------------+--------------+-----------+-------+-------+\n",
            "\n"
          ]
        }
      ]
    },
    {
      "cell_type": "markdown",
      "source": [
        "**8. Add a new column `rank_v2` that ranks players within their `team_name` based on `runs_scored` (no gaps in ranking)**\n",
        "\n",
        "**9. Show the dataframe.**"
      ],
      "metadata": {
        "id": "6mZkM1Nn9FbP"
      }
    },
    {
      "cell_type": "code",
      "source": [
        "df1 = df1.withColumn(\"rank_v2\", F.dense_rank().over(runs_scored_by_team_window))\n",
        "\n",
        "df1.show()"
      ],
      "metadata": {
        "colab": {
          "base_uri": "https://localhost:8080/"
        },
        "id": "S6lDdK6E9F7o",
        "outputId": "ad46327e-b61f-40b4-d588-11db5c4f96e8"
      },
      "execution_count": 8,
      "outputs": [
        {
          "output_type": "stream",
          "name": "stdout",
          "text": [
            "+---------------+------------+--------------+-----------+-------+-------+-------+\n",
            "|    player_name|   team_name|matches_played|runs_scored|row_num|rank_v1|rank_v2|\n",
            "+---------------+------------+--------------+-----------+-------+-------+-------+\n",
            "|Rachin Ravindra|       India|            58|       1789|      1|      1|      1|\n",
            "|   Jason Sangha|       India|            19|        153|      2|      2|      2|\n",
            "|    Eoin Morgan|     Ireland|           215|       4015|      1|      1|      1|\n",
            "|      Tim David|   Singapore|            41|       1260|      1|      1|      1|\n",
            "|   Devon Conway|South Africa|            77|       2567|      1|      1|      1|\n",
            "|  Glenn Philips|South Africa|            48|       1126|      2|      2|      2|\n",
            "|     Sam Curran|    Zimbabwe|            97|       1673|      1|      1|      1|\n",
            "| Brandon Taylor|    Zimbabwe|            49|       1673|      2|      1|      1|\n",
            "|   Peter Clarke|    Zimbabwe|             3|         45|      3|      3|      2|\n",
            "+---------------+------------+--------------+-----------+-------+-------+-------+\n",
            "\n"
          ]
        }
      ]
    },
    {
      "cell_type": "markdown",
      "source": [
        "**10. Compute the cumulative sum of `runs_scored` within each `team_name` ordered by `matches_played` and show the dataframe.**"
      ],
      "metadata": {
        "id": "OH6Mq9QB9GLS"
      }
    },
    {
      "cell_type": "code",
      "source": [
        "cumulative_window = Window.partitionBy(\"team_name\").orderBy(\"matches_played\").rowsBetween(Window.unboundedPreceding, Window.currentRow)\n",
        "df1 = df1.withColumn(\"cumulative_sum\", F.sum(\"runs_scored\").over(cumulative_window))\n",
        "\n",
        "df1.show()"
      ],
      "metadata": {
        "colab": {
          "base_uri": "https://localhost:8080/"
        },
        "id": "LJCgcnKv9Ggn",
        "outputId": "8dc8f246-8da9-46af-98f5-997b8947c5e5"
      },
      "execution_count": 9,
      "outputs": [
        {
          "output_type": "stream",
          "name": "stdout",
          "text": [
            "+---------------+------------+--------------+-----------+-------+-------+-------+--------------+\n",
            "|    player_name|   team_name|matches_played|runs_scored|row_num|rank_v1|rank_v2|cumulative_sum|\n",
            "+---------------+------------+--------------+-----------+-------+-------+-------+--------------+\n",
            "|   Jason Sangha|       India|            19|        153|      2|      2|      2|           153|\n",
            "|Rachin Ravindra|       India|            58|       1789|      1|      1|      1|          1942|\n",
            "|    Eoin Morgan|     Ireland|           215|       4015|      1|      1|      1|          4015|\n",
            "|      Tim David|   Singapore|            41|       1260|      1|      1|      1|          1260|\n",
            "|  Glenn Philips|South Africa|            48|       1126|      2|      2|      2|          1126|\n",
            "|   Devon Conway|South Africa|            77|       2567|      1|      1|      1|          3693|\n",
            "|   Peter Clarke|    Zimbabwe|             3|         45|      3|      3|      2|            45|\n",
            "| Brandon Taylor|    Zimbabwe|            49|       1673|      2|      1|      1|          1718|\n",
            "|     Sam Curran|    Zimbabwe|            97|       1673|      1|      1|      1|          3391|\n",
            "+---------------+------------+--------------+-----------+-------+-------+-------+--------------+\n",
            "\n"
          ]
        }
      ]
    },
    {
      "cell_type": "code",
      "source": [],
      "metadata": {
        "id": "-7OtWwGKAW0c"
      },
      "execution_count": null,
      "outputs": []
    },
    {
      "cell_type": "markdown",
      "source": [
        "# EXERCISE 2: USER DEFINED FUNCTIONS (UDF)"
      ],
      "metadata": {
        "id": "JOOE-28kAZOD"
      }
    },
    {
      "cell_type": "markdown",
      "source": [
        "**1. Create a DataFrame with specific columns and datatypes.**\n",
        "\n",
        "**2. Insert records**\n",
        "\n",
        "**3. Show dataframe.**"
      ],
      "metadata": {
        "id": "7_o2WskVAbdU"
      }
    },
    {
      "cell_type": "code",
      "source": [
        "schema = StructType([\n",
        "    StructField(\"player_name\", StringType(), True),\n",
        "    StructField(\"age\", IntegerType(), True),\n",
        "    StructField(\"role\", StringType(), True),\n",
        "    StructField(\"team_name\", StringType(), True),\n",
        "    StructField(\"runs_scored\", IntegerType(), True)\n",
        "])\n",
        "\n",
        "data = [\n",
        "    (\"Sachin Tendulkar\", 50, \"Batsman\", \"India\", 18426),\n",
        "    (\"Jacques Kallis\", 48, \"All-Rounder\", \"South Africa\", 11579),\n",
        "    (\"Muttiah Muralitharan\", 52, \"Bowler\", \"Sri Lanka\", 126),\n",
        "    (\"AB de Villiers\", 39, \"Batsman\", \"South Africa\", 9577),\n",
        "    (\"Michael Hussey\", 48, \"Batsman\", \"Australia\", 5442),\n",
        "    (\"Glenn McGrath\", 54, \"Bowler\", \"Australia\", 12),\n",
        "]\n",
        "\n",
        "df2 = spark.createDataFrame(data, schema)\n",
        "df2.show()"
      ],
      "metadata": {
        "colab": {
          "base_uri": "https://localhost:8080/"
        },
        "id": "dy5PqgAiAa51",
        "outputId": "0059ce24-f1d1-44fa-a88d-7ced127ed8ff"
      },
      "execution_count": null,
      "outputs": [
        {
          "output_type": "stream",
          "name": "stdout",
          "text": [
            "+--------------------+---+-----------+------------+-----------+\n",
            "|         player_name|age|       role|   team_name|runs_scored|\n",
            "+--------------------+---+-----------+------------+-----------+\n",
            "|    Sachin Tendulkar| 50|    Batsman|       India|      18426|\n",
            "|      Jacques Kallis| 48|All-Rounder|South Africa|      11579|\n",
            "|Muttiah Muralitharan| 52|     Bowler|   Sri Lanka|        126|\n",
            "|      AB de Villiers| 39|    Batsman|South Africa|       9577|\n",
            "|      Michael Hussey| 48|    Batsman|   Australia|       5442|\n",
            "|       Glenn McGrath| 54|     Bowler|   Australia|         12|\n",
            "+--------------------+---+-----------+------------+-----------+\n",
            "\n"
          ]
        }
      ]
    },
    {
      "cell_type": "markdown",
      "source": [
        "4. Create a **UDF** to classify players based on runs scored:\n",
        "   - If `runs_scored` > 10,000 → \"Great Batter\"\n",
        "   - If `runs_scored` between 5,000 and 10,000 → \"Good Batter\"\n",
        "   - Otherwise → \"Not a good Batter yet\""
      ],
      "metadata": {
        "id": "v4eqldYoAoy1"
      }
    },
    {
      "cell_type": "code",
      "source": [
        "from pyspark.sql.functions import udf\n",
        "\n",
        "def classify_players(runs):\n",
        "  if runs > 10000:\n",
        "      return \"Great Batter\"\n",
        "  elif 5000 <= runs <= 10000:\n",
        "      return \"Good Batter\"\n",
        "  else:\n",
        "      return \"Not a good Batter yet\""
      ],
      "metadata": {
        "id": "IYU9mN7vAtlq"
      },
      "execution_count": null,
      "outputs": []
    },
    {
      "cell_type": "markdown",
      "source": [
        "**5. Apply this UDF and display a new column `\"category\"`.**\n",
        "\n",
        "**6. Show the dataframe**"
      ],
      "metadata": {
        "id": "LZKcGS-1Avf7"
      }
    },
    {
      "cell_type": "code",
      "source": [
        "classify_players_udf = udf(classify_players, StringType())\n",
        "df2 = df2.withColumn(\"category\", classify_players_udf(\"runs_scored\"))\n",
        "\n",
        "df2.show(truncate=False)"
      ],
      "metadata": {
        "colab": {
          "base_uri": "https://localhost:8080/"
        },
        "id": "iVwkunayAxRs",
        "outputId": "231f28d5-5e95-4618-a296-fa36656e3f60"
      },
      "execution_count": null,
      "outputs": [
        {
          "output_type": "stream",
          "name": "stdout",
          "text": [
            "+--------------------+---+-----------+------------+-----------+---------------------+\n",
            "|player_name         |age|role       |team_name   |runs_scored|category             |\n",
            "+--------------------+---+-----------+------------+-----------+---------------------+\n",
            "|Sachin Tendulkar    |50 |Batsman    |India       |18426      |Great Batter         |\n",
            "|Jacques Kallis      |48 |All-Rounder|South Africa|11579      |Great Batter         |\n",
            "|Muttiah Muralitharan|52 |Bowler     |Sri Lanka   |126        |Not a good Batter yet|\n",
            "|AB de Villiers      |39 |Batsman    |South Africa|9577       |Good Batter          |\n",
            "|Michael Hussey      |48 |Batsman    |Australia   |5442       |Good Batter          |\n",
            "|Glenn McGrath       |54 |Bowler     |Australia   |12         |Not a good Batter yet|\n",
            "+--------------------+---+-----------+------------+-----------+---------------------+\n",
            "\n"
          ]
        }
      ]
    },
    {
      "cell_type": "markdown",
      "source": [
        "**7. Create a `UDF to extract the first name and last name` from `player_name` and add two new columns: `\"first_name\"` and `\"last_name\"`.**\n",
        "\n",
        "**8. Display the dataframe.**"
      ],
      "metadata": {
        "id": "Hr15PEAqA2OA"
      }
    },
    {
      "cell_type": "code",
      "source": [
        "def get_first_name(name):\n",
        "  return name.split(\" \")[0]\n",
        "\n",
        "def get_last_name(name):\n",
        "  return name.split(\" \")[-1]\n",
        "\n",
        "first_name_udf = udf(get_first_name, StringType())\n",
        "last_name_udf = udf(get_last_name, StringType())\n",
        "\n",
        "df2 = df2.withColumn(\"first_name\", first_name_udf(\"player_name\"))\n",
        "df2 = df2.withColumn(\"last_name\", last_name_udf(\"player_name\"))\n",
        "\n",
        "df2.show(truncate=False)"
      ],
      "metadata": {
        "colab": {
          "base_uri": "https://localhost:8080/"
        },
        "id": "Y90g01eBA3Qs",
        "outputId": "d36dc062-9653-4003-9fe9-8987cd088eea"
      },
      "execution_count": null,
      "outputs": [
        {
          "output_type": "stream",
          "name": "stdout",
          "text": [
            "+--------------------+---+-----------+------------+-----------+---------------------+----------+------------+\n",
            "|player_name         |age|role       |team_name   |runs_scored|category             |first_name|last_name   |\n",
            "+--------------------+---+-----------+------------+-----------+---------------------+----------+------------+\n",
            "|Sachin Tendulkar    |50 |Batsman    |India       |18426      |Great Batter         |Sachin    |Tendulkar   |\n",
            "|Jacques Kallis      |48 |All-Rounder|South Africa|11579      |Great Batter         |Jacques   |Kallis      |\n",
            "|Muttiah Muralitharan|52 |Bowler     |Sri Lanka   |126        |Not a good Batter yet|Muttiah   |Muralitharan|\n",
            "|AB de Villiers      |39 |Batsman    |South Africa|9577       |Good Batter          |AB        |Villiers    |\n",
            "|Michael Hussey      |48 |Batsman    |Australia   |5442       |Good Batter          |Michael   |Hussey      |\n",
            "|Glenn McGrath       |54 |Bowler     |Australia   |12         |Not a good Batter yet|Glenn     |McGrath     |\n",
            "+--------------------+---+-----------+------------+-----------+---------------------+----------+------------+\n",
            "\n"
          ]
        }
      ]
    },
    {
      "cell_type": "markdown",
      "source": [
        "**9. Create a `UDF to check if a player is eligible for veteran status` (`age >= 45` should return `True`, otherwise `False`). Add a new column `\"is_veteran\"`. Display the dataframe**"
      ],
      "metadata": {
        "id": "sS6xTWhqA4ZC"
      }
    },
    {
      "cell_type": "code",
      "source": [
        "from pyspark.sql.types import BooleanType\n",
        "\n",
        "def is_veteran(age):\n",
        "  return age >= 45\n",
        "\n",
        "veteran_udf = udf(is_veteran, BooleanType())\n",
        "df2 = df2.withColumn(\"is_veteran\", veteran_udf(\"age\"))\n",
        "\n",
        "df2.show(truncate=False)"
      ],
      "metadata": {
        "colab": {
          "base_uri": "https://localhost:8080/"
        },
        "id": "zwE7JJVxA7m-",
        "outputId": "ce9c6a89-3e0f-4901-ca80-c8757047222f"
      },
      "execution_count": null,
      "outputs": [
        {
          "output_type": "stream",
          "name": "stdout",
          "text": [
            "+--------------------+---+-----------+------------+-----------+---------------------+----------+------------+----------+\n",
            "|player_name         |age|role       |team_name   |runs_scored|category             |first_name|last_name   |is_veteran|\n",
            "+--------------------+---+-----------+------------+-----------+---------------------+----------+------------+----------+\n",
            "|Sachin Tendulkar    |50 |Batsman    |India       |18426      |Great Batter         |Sachin    |Tendulkar   |true      |\n",
            "|Jacques Kallis      |48 |All-Rounder|South Africa|11579      |Great Batter         |Jacques   |Kallis      |true      |\n",
            "|Muttiah Muralitharan|52 |Bowler     |Sri Lanka   |126        |Not a good Batter yet|Muttiah   |Muralitharan|true      |\n",
            "|AB de Villiers      |39 |Batsman    |South Africa|9577       |Good Batter          |AB        |Villiers    |false     |\n",
            "|Michael Hussey      |48 |Batsman    |Australia   |5442       |Good Batter          |Michael   |Hussey      |true      |\n",
            "|Glenn McGrath       |54 |Bowler     |Australia   |12         |Not a good Batter yet|Glenn     |McGrath     |true      |\n",
            "+--------------------+---+-----------+------------+-----------+---------------------+----------+------------+----------+\n",
            "\n"
          ]
        }
      ]
    },
    {
      "cell_type": "markdown",
      "source": [
        "10. Create a **UDF to generate a full descriptive name**, combining `player_name`, `role`, and `team_name` in the format:  \n",
        "   **\"Sachin Tendulkar (Batsman From India)\"**  \n",
        "   Name this new column as `\"player_description\"`.\n",
        "\n",
        "11. Display the Dataframe."
      ],
      "metadata": {
        "id": "R3XbnEJnA89g"
      }
    },
    {
      "cell_type": "code",
      "source": [
        "def player_description(name, role, team):\n",
        "  return f\"{name} ({role} From {team})\"\n",
        "\n",
        "desc_udf = udf(player_description, StringType())\n",
        "df2 = df2.withColumn(\"player_description\", desc_udf(\"player_name\", \"role\", \"team_name\"))\n",
        "\n",
        "df2.show(truncate=False)"
      ],
      "metadata": {
        "colab": {
          "base_uri": "https://localhost:8080/"
        },
        "id": "VRCDEguQA-pp",
        "outputId": "16b0f8ab-0b71-428d-ff9b-39eaf24499e0"
      },
      "execution_count": null,
      "outputs": [
        {
          "output_type": "stream",
          "name": "stdout",
          "text": [
            "+--------------------+---+-----------+------------+-----------+---------------------+----------+------------+----------+----------------------------------------------+\n",
            "|player_name         |age|role       |team_name   |runs_scored|category             |first_name|last_name   |is_veteran|player_description                            |\n",
            "+--------------------+---+-----------+------------+-----------+---------------------+----------+------------+----------+----------------------------------------------+\n",
            "|Sachin Tendulkar    |50 |Batsman    |India       |18426      |Great Batter         |Sachin    |Tendulkar   |true      |Sachin Tendulkar (Batsman From India)         |\n",
            "|Jacques Kallis      |48 |All-Rounder|South Africa|11579      |Great Batter         |Jacques   |Kallis      |true      |Jacques Kallis (All-Rounder From South Africa)|\n",
            "|Muttiah Muralitharan|52 |Bowler     |Sri Lanka   |126        |Not a good Batter yet|Muttiah   |Muralitharan|true      |Muttiah Muralitharan (Bowler From Sri Lanka)  |\n",
            "|AB de Villiers      |39 |Batsman    |South Africa|9577       |Good Batter          |AB        |Villiers    |false     |AB de Villiers (Batsman From South Africa)    |\n",
            "|Michael Hussey      |48 |Batsman    |Australia   |5442       |Good Batter          |Michael   |Hussey      |true      |Michael Hussey (Batsman From Australia)       |\n",
            "|Glenn McGrath       |54 |Bowler     |Australia   |12         |Not a good Batter yet|Glenn     |McGrath     |true      |Glenn McGrath (Bowler From Australia)         |\n",
            "+--------------------+---+-----------+------------+-----------+---------------------+----------+------------+----------+----------------------------------------------+\n",
            "\n"
          ]
        }
      ]
    },
    {
      "cell_type": "code",
      "source": [],
      "metadata": {
        "id": "ADOuR3ffEGRQ"
      },
      "execution_count": null,
      "outputs": []
    }
  ]
}