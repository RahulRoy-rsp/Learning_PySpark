{
  "nbformat": 4,
  "nbformat_minor": 0,
  "metadata": {
    "colab": {
      "provenance": []
    },
    "kernelspec": {
      "name": "python3",
      "display_name": "Python 3"
    },
    "language_info": {
      "name": "python"
    }
  },
  "cells": [
    {
      "cell_type": "code",
      "execution_count": 1,
      "metadata": {
        "colab": {
          "base_uri": "https://localhost:8080/"
        },
        "id": "F73JBLY17Niu",
        "outputId": "0afbf235-8bd2-49f6-c344-ee1c974e85d2"
      },
      "outputs": [
        {
          "output_type": "stream",
          "name": "stdout",
          "text": [
            "Requirement already satisfied: pyspark in /usr/local/lib/python3.11/dist-packages (3.5.4)\n",
            "Requirement already satisfied: py4j==0.10.9.7 in /usr/local/lib/python3.11/dist-packages (from pyspark) (0.10.9.7)\n"
          ]
        }
      ],
      "source": [
        "!pip install pyspark"
      ]
    },
    {
      "cell_type": "code",
      "source": [
        "!pip install -q findspark"
      ],
      "metadata": {
        "id": "C0HINdSw7QFm"
      },
      "execution_count": 2,
      "outputs": []
    },
    {
      "cell_type": "code",
      "source": [
        "import findspark\n",
        "findspark.init()"
      ],
      "metadata": {
        "id": "-iL5-bU57ReE"
      },
      "execution_count": 3,
      "outputs": []
    },
    {
      "cell_type": "code",
      "source": [
        "# creating a spark session that will be used to perform all the necessary task on Spark\n",
        "from pyspark.sql import SparkSession\n",
        "spark = SparkSession.builder.master(\"local[*]\").appName('df-agg-operations').getOrCreate()\n",
        "spark"
      ],
      "metadata": {
        "colab": {
          "base_uri": "https://localhost:8080/",
          "height": 222
        },
        "id": "JVo62kWn7Suf",
        "outputId": "a6c29e86-9495-413e-8dfd-50b7384452a5"
      },
      "execution_count": 4,
      "outputs": [
        {
          "output_type": "execute_result",
          "data": {
            "text/plain": [
              "<pyspark.sql.session.SparkSession at 0x78f1a8494ed0>"
            ],
            "text/html": [
              "\n",
              "            <div>\n",
              "                <p><b>SparkSession - in-memory</b></p>\n",
              "                \n",
              "        <div>\n",
              "            <p><b>SparkContext</b></p>\n",
              "\n",
              "            <p><a href=\"http://b0030980f282:4040\">Spark UI</a></p>\n",
              "\n",
              "            <dl>\n",
              "              <dt>Version</dt>\n",
              "                <dd><code>v3.5.4</code></dd>\n",
              "              <dt>Master</dt>\n",
              "                <dd><code>local[*]</code></dd>\n",
              "              <dt>AppName</dt>\n",
              "                <dd><code>df-agg-operations</code></dd>\n",
              "            </dl>\n",
              "        </div>\n",
              "        \n",
              "            </div>\n",
              "        "
            ]
          },
          "metadata": {},
          "execution_count": 4
        }
      ]
    },
    {
      "cell_type": "markdown",
      "source": [
        "# EXERCISE 1"
      ],
      "metadata": {
        "id": "Ctj-LQjE7aN3"
      }
    },
    {
      "cell_type": "markdown",
      "source": [
        "**1. Create a DataFrame with specific columns and datatypes.**\n",
        "\n",
        "**2. Insert records**\n",
        "\n",
        "**3. Show dataframe.**"
      ],
      "metadata": {
        "id": "5LKINR8u7b3v"
      }
    },
    {
      "cell_type": "code",
      "source": [
        "from pyspark.sql.types import StructType, StructField, StringType, IntegerType\n",
        "\n",
        "# Defining the schema\n",
        "schema = StructType([\n",
        "    StructField(\"player_name\", StringType(), True),\n",
        "    StructField(\"matches\", IntegerType(), True),\n",
        "    StructField(\"goals_scored\", IntegerType(), True),\n",
        "    StructField(\"team_name\", StringType(), True)\n",
        "])\n",
        "\n",
        "# data for the dataframe\n",
        "data = [\n",
        "   (\"Christiano Ronaldo\", 7, 12, \"Spain\"),\n",
        "   (\"Lionel Messi\", 6, 11, \"Argentica\"),\n",
        "   (\"Luka Modric\", 5, 9, \"Croatia\"),\n",
        "   (\"Harry Kane\", 5, 12, \"England\"),\n",
        "   (\"Vinicius Junior\", 4, 7, \"Brazil\"),\n",
        "   (\"Sergio Ramos\", 7, 5, \"Spain\"),\n",
        "   (\"Neymar Da Silva\", 4, 9, \"Brazil\")\n",
        "]\n",
        "\n",
        "# Creating the DataFrame\n",
        "df1 = spark.createDataFrame(data, schema=schema)\n",
        "\n",
        "df1.show()"
      ],
      "metadata": {
        "colab": {
          "base_uri": "https://localhost:8080/"
        },
        "id": "TBCskFDG7WeG",
        "outputId": "174bbd9f-804d-4dcb-e1f4-1c7bb1ac147d"
      },
      "execution_count": 7,
      "outputs": [
        {
          "output_type": "stream",
          "name": "stdout",
          "text": [
            "+------------------+-------+------------+---------+\n",
            "|       player_name|matches|goals_scored|team_name|\n",
            "+------------------+-------+------------+---------+\n",
            "|Christiano Ronaldo|      7|          12|    Spain|\n",
            "|      Lionel Messi|      6|          11|Argentica|\n",
            "|       Luka Modric|      5|           9|  Croatia|\n",
            "|        Harry Kane|      5|          12|  England|\n",
            "|   Vinicius Junior|      4|           7|   Brazil|\n",
            "|      Sergio Ramos|      7|           5|    Spain|\n",
            "|   Neymar Da Silva|      4|           9|   Brazil|\n",
            "+------------------+-------+------------+---------+\n",
            "\n"
          ]
        }
      ]
    },
    {
      "cell_type": "markdown",
      "source": [
        "**4. Show the **number of records** in the dataframe.**"
      ],
      "metadata": {
        "id": "eieLVtjV8wCf"
      }
    },
    {
      "cell_type": "code",
      "source": [
        "df1.count()"
      ],
      "metadata": {
        "colab": {
          "base_uri": "https://localhost:8080/"
        },
        "id": "RZxsDD1L812b",
        "outputId": "d422ee7a-a519-4cbe-bf02-bcfb3279e4f7"
      },
      "execution_count": 9,
      "outputs": [
        {
          "output_type": "execute_result",
          "data": {
            "text/plain": [
              "7"
            ]
          },
          "metadata": {},
          "execution_count": 9
        }
      ]
    },
    {
      "cell_type": "markdown",
      "source": [
        "**5. Show the dataframe with only the following columns: `player_name` and `goals_scored`.**"
      ],
      "metadata": {
        "id": "inxSo31i7ZZF"
      }
    },
    {
      "cell_type": "code",
      "source": [
        "df1.select(\"player_name\", \"goals_scored\").show()"
      ],
      "metadata": {
        "colab": {
          "base_uri": "https://localhost:8080/"
        },
        "id": "A8ViJ7W39Dta",
        "outputId": "0ba9f634-ef6b-4f9d-d4ff-5040a99d0009"
      },
      "execution_count": 12,
      "outputs": [
        {
          "output_type": "stream",
          "name": "stdout",
          "text": [
            "+------------------+------------+\n",
            "|       player_name|goals_scored|\n",
            "+------------------+------------+\n",
            "|Christiano Ronaldo|          12|\n",
            "|      Lionel Messi|          11|\n",
            "|       Luka Modric|           9|\n",
            "|        Harry Kane|          12|\n",
            "|   Vinicius Junior|           7|\n",
            "|      Sergio Ramos|           5|\n",
            "|   Neymar Da Silva|           9|\n",
            "+------------------+------------+\n",
            "\n"
          ]
        }
      ]
    },
    {
      "cell_type": "markdown",
      "source": [
        "**6. Show the dataframe `sorted` by the column `goals_scored` in *descending* order.**"
      ],
      "metadata": {
        "id": "6mZkM1Nn9FbP"
      }
    },
    {
      "cell_type": "code",
      "source": [
        "df1.sort(\"goals_scored\", ascending=False).show()"
      ],
      "metadata": {
        "colab": {
          "base_uri": "https://localhost:8080/"
        },
        "id": "S6lDdK6E9F7o",
        "outputId": "e496017f-d825-4c82-f9de-970ae2696a10"
      },
      "execution_count": 13,
      "outputs": [
        {
          "output_type": "stream",
          "name": "stdout",
          "text": [
            "+------------------+-------+------------+---------+\n",
            "|       player_name|matches|goals_scored|team_name|\n",
            "+------------------+-------+------------+---------+\n",
            "|Christiano Ronaldo|      7|          12|    Spain|\n",
            "|        Harry Kane|      5|          12|  England|\n",
            "|      Lionel Messi|      6|          11|Argentica|\n",
            "|   Neymar Da Silva|      4|           9|   Brazil|\n",
            "|       Luka Modric|      5|           9|  Croatia|\n",
            "|   Vinicius Junior|      4|           7|   Brazil|\n",
            "|      Sergio Ramos|      7|           5|    Spain|\n",
            "+------------------+-------+------------+---------+\n",
            "\n"
          ]
        }
      ]
    },
    {
      "cell_type": "markdown",
      "source": [
        "**7. Show the total number of `goals_scored` in the dataframe.**"
      ],
      "metadata": {
        "id": "OH6Mq9QB9GLS"
      }
    },
    {
      "cell_type": "code",
      "source": [
        "from pyspark.sql.functions import sum\n",
        "\n",
        "total_goals = df1.select(sum(df1.goals_scored).alias(\"Total Goals\"))\n",
        "total_goals.show()"
      ],
      "metadata": {
        "colab": {
          "base_uri": "https://localhost:8080/"
        },
        "id": "LJCgcnKv9Ggn",
        "outputId": "35b1acda-db45-4c78-f152-6a9f2580d8b3"
      },
      "execution_count": 16,
      "outputs": [
        {
          "output_type": "stream",
          "name": "stdout",
          "text": [
            "+-----------+\n",
            "|Total Goals|\n",
            "+-----------+\n",
            "|         65|\n",
            "+-----------+\n",
            "\n"
          ]
        }
      ]
    },
    {
      "cell_type": "markdown",
      "source": [
        "**8. Show the `average` number of `goals_scored` in the dataframe.**"
      ],
      "metadata": {
        "id": "QRLkQCoZ9Gxb"
      }
    },
    {
      "cell_type": "code",
      "source": [
        "from pyspark.sql.functions import avg\n",
        "\n",
        "avg_goals = df1.select(avg(df1.goals_scored).alias(\"Average Goals\"))\n",
        "avg_goals.show()"
      ],
      "metadata": {
        "colab": {
          "base_uri": "https://localhost:8080/"
        },
        "id": "-IiLRaJQ9HUX",
        "outputId": "5df7008f-4e24-446e-f265-053ed29a65a4"
      },
      "execution_count": 17,
      "outputs": [
        {
          "output_type": "stream",
          "name": "stdout",
          "text": [
            "+-----------------+\n",
            "|    Average Goals|\n",
            "+-----------------+\n",
            "|9.285714285714286|\n",
            "+-----------------+\n",
            "\n"
          ]
        }
      ]
    },
    {
      "cell_type": "markdown",
      "source": [
        "**9. Show the records from the dataframe where the `team_name` is *Spain*.**"
      ],
      "metadata": {
        "id": "hsor_xoZ-VJt"
      }
    },
    {
      "cell_type": "code",
      "source": [
        "df1.filter(df1.team_name == \"Spain\").show()"
      ],
      "metadata": {
        "colab": {
          "base_uri": "https://localhost:8080/"
        },
        "id": "ypBI-6Un-SuZ",
        "outputId": "699d3de5-23a0-41ec-9033-302869471309"
      },
      "execution_count": 18,
      "outputs": [
        {
          "output_type": "stream",
          "name": "stdout",
          "text": [
            "+------------------+-------+------------+---------+\n",
            "|       player_name|matches|goals_scored|team_name|\n",
            "+------------------+-------+------------+---------+\n",
            "|Christiano Ronaldo|      7|          12|    Spain|\n",
            "|      Sergio Ramos|      7|           5|    Spain|\n",
            "+------------------+-------+------------+---------+\n",
            "\n"
          ]
        }
      ]
    },
    {
      "cell_type": "markdown",
      "source": [
        "**10. Show the result set from the dataframe with the columns as `Max Goals`, `Min Goals`, `Total Goals`, `Average Goals` for each `team_name`.**"
      ],
      "metadata": {
        "id": "gUFLHJzF-ija"
      }
    },
    {
      "cell_type": "code",
      "source": [
        "from pyspark.sql.functions import min, max\n",
        "teams_group = df1.groupby(\"team_name\").agg(\n",
        "    max(\"goals_scored\").alias(\"Max Goals\"),\n",
        "    min(\"goals_scored\").alias(\"Min Goals\"),\n",
        "    sum(\"goals_scored\").alias(\"Total Goals\"),\n",
        "    avg(\"goals_scored\").alias(\"Average Goals\")\n",
        "    )\n",
        "\n",
        "teams_group.show()"
      ],
      "metadata": {
        "colab": {
          "base_uri": "https://localhost:8080/"
        },
        "id": "M46VBIc5-dwC",
        "outputId": "d5bf7410-b4ad-4d12-f294-da4fe616b691"
      },
      "execution_count": 20,
      "outputs": [
        {
          "output_type": "stream",
          "name": "stdout",
          "text": [
            "+---------+---------+---------+-----------+-------------+\n",
            "|team_name|Max Goals|Min Goals|Total Goals|Average Goals|\n",
            "+---------+---------+---------+-----------+-------------+\n",
            "|  Croatia|        9|        9|          9|          9.0|\n",
            "|    Spain|       12|        5|         17|          8.5|\n",
            "|Argentica|       11|       11|         11|         11.0|\n",
            "|   Brazil|        9|        7|         16|          8.0|\n",
            "|  England|       12|       12|         12|         12.0|\n",
            "+---------+---------+---------+-----------+-------------+\n",
            "\n"
          ]
        }
      ]
    },
    {
      "cell_type": "markdown",
      "source": [
        "**11. Show the `player_name` who scored the most goals, (Columns to show:`player_name`, `goals_scored`).**"
      ],
      "metadata": {
        "id": "5eI0dfQb_JgY"
      }
    },
    {
      "cell_type": "code",
      "source": [
        "max_goals = df1.select(max(df1.goals_scored)).collect()[0][0]\n",
        "\n",
        "df1.filter(df1.goals_scored == max_goals).select(\"player_name\", \"goals_scored\").show()"
      ],
      "metadata": {
        "colab": {
          "base_uri": "https://localhost:8080/"
        },
        "id": "xMFo2OGy-hHY",
        "outputId": "40c9f62c-07b8-419b-f68f-0a502d1278fa"
      },
      "execution_count": 23,
      "outputs": [
        {
          "output_type": "stream",
          "name": "stdout",
          "text": [
            "+------------------+------------+\n",
            "|       player_name|goals_scored|\n",
            "+------------------+------------+\n",
            "|Christiano Ronaldo|          12|\n",
            "|        Harry Kane|          12|\n",
            "+------------------+------------+\n",
            "\n"
          ]
        }
      ]
    },
    {
      "cell_type": "markdown",
      "source": [
        "**12. Show the `player_name` who played the most matches, (Columns to show:`player_name`, `matches`).**"
      ],
      "metadata": {
        "id": "uMDr6WVd_LTb"
      }
    },
    {
      "cell_type": "code",
      "source": [
        "most_matches = df1.select(max(df1.matches)).collect()[0][0]\n",
        "\n",
        "df1.filter(df1.matches == most_matches).select(\"player_name\", \"matches\").show()"
      ],
      "metadata": {
        "colab": {
          "base_uri": "https://localhost:8080/"
        },
        "id": "XvEZpQzz_NSM",
        "outputId": "9b861522-c9fe-4562-ece2-02a8c90c8778"
      },
      "execution_count": 24,
      "outputs": [
        {
          "output_type": "stream",
          "name": "stdout",
          "text": [
            "+------------------+-------+\n",
            "|       player_name|matches|\n",
            "+------------------+-------+\n",
            "|Christiano Ronaldo|      7|\n",
            "|      Sergio Ramos|      7|\n",
            "+------------------+-------+\n",
            "\n"
          ]
        }
      ]
    },
    {
      "cell_type": "code",
      "source": [
        "total_matches = df1.groupBy(\"player_name\").agg(sum(\"matches\").alias(\"matches\"))\n",
        "\n",
        "max_match = total_matches.select(max(total_matches.matches)).collect()[0][0]\n",
        "\n",
        "total_matches.filter(total_matches.matches == max_match).select(\"player_name\", \"matches\").show()\n"
      ],
      "metadata": {
        "colab": {
          "base_uri": "https://localhost:8080/"
        },
        "id": "Ua3S9hck_3Uk",
        "outputId": "b4597aa8-1fdd-40d7-e0da-cae8d9ddb425"
      },
      "execution_count": 25,
      "outputs": [
        {
          "output_type": "stream",
          "name": "stdout",
          "text": [
            "+------------------+-------+\n",
            "|       player_name|matches|\n",
            "+------------------+-------+\n",
            "|Christiano Ronaldo|      7|\n",
            "|      Sergio Ramos|      7|\n",
            "+------------------+-------+\n",
            "\n"
          ]
        }
      ]
    },
    {
      "cell_type": "code",
      "source": [],
      "metadata": {
        "id": "-7OtWwGKAW0c"
      },
      "execution_count": null,
      "outputs": []
    },
    {
      "cell_type": "markdown",
      "source": [
        "# EXERCISE 2"
      ],
      "metadata": {
        "id": "JOOE-28kAZOD"
      }
    },
    {
      "cell_type": "markdown",
      "source": [
        "**1. Read a csv (player2.csv) and create a dataframe with specific schema**\n",
        "\n",
        "**2. Display the Dataframe**"
      ],
      "metadata": {
        "id": "7_o2WskVAbdU"
      }
    },
    {
      "cell_type": "code",
      "source": [
        "# Defining the schema\n",
        "schema = StructType([\n",
        "    StructField(\"player_name\", StringType(), True),\n",
        "    StructField(\"age\", StringType(), True),\n",
        "    StructField(\"gender\", StringType(), True),\n",
        "    StructField(\"country\", StringType(), True)\n",
        "])\n",
        "\n",
        "df2 = spark.read.csv(\"players2.csv\", header=True, schema=schema)\n",
        "\n",
        "df2.show()"
      ],
      "metadata": {
        "colab": {
          "base_uri": "https://localhost:8080/"
        },
        "id": "dy5PqgAiAa51",
        "outputId": "023c1ff3-6baf-4ec1-ae37-5dfd7ce0de75"
      },
      "execution_count": 42,
      "outputs": [
        {
          "output_type": "stream",
          "name": "stdout",
          "text": [
            "+---------------+---+------+------------+\n",
            "|    player_name|age|gender|     country|\n",
            "+---------------+---+------+------------+\n",
            "|    Shaun Davis| 21|     M|       Spain|\n",
            "|      Mark Howy| 22|     M|       Spain|\n",
            "| Cole McConchie| 17|     M| New Zealand|\n",
            "|   Dave Pollock| 16|     M|South Africa|\n",
            "|  Main Gimmonds| 19|     M|     England|\n",
            "|Fellicity Davis| 17|     M| New Zealand|\n",
            "|      Zoe Stark| 22|     F|     England|\n",
            "+---------------+---+------+------------+\n",
            "\n"
          ]
        }
      ]
    },
    {
      "cell_type": "markdown",
      "source": [
        "**3. Show only the first five records of the DataFrame sorted by `age`.**"
      ],
      "metadata": {
        "id": "v4eqldYoAoy1"
      }
    },
    {
      "cell_type": "code",
      "source": [
        "df2.sort(\"age\", ascending=False).show(5)"
      ],
      "metadata": {
        "colab": {
          "base_uri": "https://localhost:8080/"
        },
        "id": "IYU9mN7vAtlq",
        "outputId": "7d0930f5-3cf5-4c81-9b1a-962a21b1355f"
      },
      "execution_count": 43,
      "outputs": [
        {
          "output_type": "stream",
          "name": "stdout",
          "text": [
            "+--------------+---+------+-----------+\n",
            "|   player_name|age|gender|    country|\n",
            "+--------------+---+------+-----------+\n",
            "|     Mark Howy| 22|     M|      Spain|\n",
            "|     Zoe Stark| 22|     F|    England|\n",
            "|   Shaun Davis| 21|     M|      Spain|\n",
            "| Main Gimmonds| 19|     M|    England|\n",
            "|Cole McConchie| 17|     M|New Zealand|\n",
            "+--------------+---+------+-----------+\n",
            "only showing top 5 rows\n",
            "\n"
          ]
        }
      ]
    },
    {
      "cell_type": "markdown",
      "source": [
        "**4. Derive two new fields `first_name` and `last_name` using `player_name`. (first_name and last_name is separated by space).**\n",
        "\n",
        "**5. Display the DataFrame.**"
      ],
      "metadata": {
        "id": "LZKcGS-1Avf7"
      }
    },
    {
      "cell_type": "code",
      "source": [
        "from pyspark.sql.functions import split\n",
        "\n",
        "new_df2_1 = df2.withColumn(\"first_name\", split(df2[\"player_name\"], \" \").getItem(0)) \\\n",
        "              .withColumn(\"last_name\", split(df2[\"player_name\"], \" \").getItem(1))\n",
        "\n",
        "new_df2_1.show()"
      ],
      "metadata": {
        "colab": {
          "base_uri": "https://localhost:8080/"
        },
        "id": "iVwkunayAxRs",
        "outputId": "f34c41db-1bac-4567-ccda-8de59a3ff2b0"
      },
      "execution_count": 44,
      "outputs": [
        {
          "output_type": "stream",
          "name": "stdout",
          "text": [
            "+---------------+---+------+------------+----------+---------+\n",
            "|    player_name|age|gender|     country|first_name|last_name|\n",
            "+---------------+---+------+------------+----------+---------+\n",
            "|    Shaun Davis| 21|     M|       Spain|     Shaun|    Davis|\n",
            "|      Mark Howy| 22|     M|       Spain|      Mark|     Howy|\n",
            "| Cole McConchie| 17|     M| New Zealand|      Cole|McConchie|\n",
            "|   Dave Pollock| 16|     M|South Africa|      Dave|  Pollock|\n",
            "|  Main Gimmonds| 19|     M|     England|      Main| Gimmonds|\n",
            "|Fellicity Davis| 17|     M| New Zealand| Fellicity|    Davis|\n",
            "|      Zoe Stark| 22|     F|     England|       Zoe|    Stark|\n",
            "+---------------+---+------+------------+----------+---------+\n",
            "\n"
          ]
        }
      ]
    },
    {
      "cell_type": "code",
      "source": [
        "from pyspark.sql.functions import expr\n",
        "\n",
        "new_df2_2 = df2.withColumn(\"first_name\", expr(\"split(player_name, ' ')[0]\")) \\\n",
        "              .withColumn(\"last_name\", expr(\"split(player_name, ' ')[1]\"))\n",
        "\n",
        "new_df2_2.show()"
      ],
      "metadata": {
        "colab": {
          "base_uri": "https://localhost:8080/"
        },
        "id": "CCkn4XFtCZnQ",
        "outputId": "c9e2f105-4ecf-489c-dda7-c20c7a5f288a"
      },
      "execution_count": 45,
      "outputs": [
        {
          "output_type": "stream",
          "name": "stdout",
          "text": [
            "+---------------+---+------+------------+----------+---------+\n",
            "|    player_name|age|gender|     country|first_name|last_name|\n",
            "+---------------+---+------+------------+----------+---------+\n",
            "|    Shaun Davis| 21|     M|       Spain|     Shaun|    Davis|\n",
            "|      Mark Howy| 22|     M|       Spain|      Mark|     Howy|\n",
            "| Cole McConchie| 17|     M| New Zealand|      Cole|McConchie|\n",
            "|   Dave Pollock| 16|     M|South Africa|      Dave|  Pollock|\n",
            "|  Main Gimmonds| 19|     M|     England|      Main| Gimmonds|\n",
            "|Fellicity Davis| 17|     M| New Zealand| Fellicity|    Davis|\n",
            "|      Zoe Stark| 22|     F|     England|       Zoe|    Stark|\n",
            "+---------------+---+------+------------+----------+---------+\n",
            "\n"
          ]
        }
      ]
    },
    {
      "cell_type": "markdown",
      "source": [
        "**6. Show the schema of the dataframe.**"
      ],
      "metadata": {
        "id": "Hr15PEAqA2OA"
      }
    },
    {
      "cell_type": "code",
      "source": [
        "new_df2_1.printSchema()"
      ],
      "metadata": {
        "colab": {
          "base_uri": "https://localhost:8080/"
        },
        "id": "Y90g01eBA3Qs",
        "outputId": "3bfead39-bf4c-48a4-a81b-b3d0bc8b7dc4"
      },
      "execution_count": 46,
      "outputs": [
        {
          "output_type": "stream",
          "name": "stdout",
          "text": [
            "root\n",
            " |-- player_name: string (nullable = true)\n",
            " |-- age: string (nullable = true)\n",
            " |-- gender: string (nullable = true)\n",
            " |-- country: string (nullable = true)\n",
            " |-- first_name: string (nullable = true)\n",
            " |-- last_name: string (nullable = true)\n",
            "\n"
          ]
        }
      ]
    },
    {
      "cell_type": "markdown",
      "source": [
        "**7. Derive a new field `Is_Eligible`. (Assign it as *True* if the age is less than 21, else *False*)**"
      ],
      "metadata": {
        "id": "sS6xTWhqA4ZC"
      }
    },
    {
      "cell_type": "code",
      "source": [
        "from pyspark.sql.functions import col, when\n",
        "\n",
        "new_df2_1 = new_df2_1.withColumn(\"Is_Eligible\", when(col(\"age\") < 21, True).otherwise(False))\n",
        "\n",
        "new_df2_1.show()"
      ],
      "metadata": {
        "colab": {
          "base_uri": "https://localhost:8080/"
        },
        "id": "zwE7JJVxA7m-",
        "outputId": "e141001f-dc77-4891-eb27-6aa4e30df7a4"
      },
      "execution_count": 47,
      "outputs": [
        {
          "output_type": "stream",
          "name": "stdout",
          "text": [
            "+---------------+---+------+------------+----------+---------+-----------+\n",
            "|    player_name|age|gender|     country|first_name|last_name|Is_Eligible|\n",
            "+---------------+---+------+------------+----------+---------+-----------+\n",
            "|    Shaun Davis| 21|     M|       Spain|     Shaun|    Davis|      false|\n",
            "|      Mark Howy| 22|     M|       Spain|      Mark|     Howy|      false|\n",
            "| Cole McConchie| 17|     M| New Zealand|      Cole|McConchie|       true|\n",
            "|   Dave Pollock| 16|     M|South Africa|      Dave|  Pollock|       true|\n",
            "|  Main Gimmonds| 19|     M|     England|      Main| Gimmonds|       true|\n",
            "|Fellicity Davis| 17|     M| New Zealand| Fellicity|    Davis|       true|\n",
            "|      Zoe Stark| 22|     F|     England|       Zoe|    Stark|      false|\n",
            "+---------------+---+------+------------+----------+---------+-----------+\n",
            "\n"
          ]
        }
      ]
    },
    {
      "cell_type": "code",
      "source": [
        "from pyspark.sql.functions import col, when\n",
        "\n",
        "new_df2_2 = new_df2_2.withColumn(\"Is_Eligible\", expr(\"age < 21\"))\n",
        "\n",
        "new_df2_2.show()"
      ],
      "metadata": {
        "colab": {
          "base_uri": "https://localhost:8080/"
        },
        "id": "qn04Wm6XDNOA",
        "outputId": "0a3dbc7b-1446-4c16-ca08-11fc9dc8cbd6"
      },
      "execution_count": 48,
      "outputs": [
        {
          "output_type": "stream",
          "name": "stdout",
          "text": [
            "+---------------+---+------+------------+----------+---------+-----------+\n",
            "|    player_name|age|gender|     country|first_name|last_name|Is_Eligible|\n",
            "+---------------+---+------+------------+----------+---------+-----------+\n",
            "|    Shaun Davis| 21|     M|       Spain|     Shaun|    Davis|      false|\n",
            "|      Mark Howy| 22|     M|       Spain|      Mark|     Howy|      false|\n",
            "| Cole McConchie| 17|     M| New Zealand|      Cole|McConchie|       true|\n",
            "|   Dave Pollock| 16|     M|South Africa|      Dave|  Pollock|       true|\n",
            "|  Main Gimmonds| 19|     M|     England|      Main| Gimmonds|       true|\n",
            "|Fellicity Davis| 17|     M| New Zealand| Fellicity|    Davis|       true|\n",
            "|      Zoe Stark| 22|     F|     England|       Zoe|    Stark|      false|\n",
            "+---------------+---+------+------------+----------+---------+-----------+\n",
            "\n"
          ]
        }
      ]
    },
    {
      "cell_type": "markdown",
      "source": [
        "**8. Show the records who has `Is_Eligible` as *True*.**"
      ],
      "metadata": {
        "id": "R3XbnEJnA89g"
      }
    },
    {
      "cell_type": "code",
      "source": [
        "new_df2_2.filter(new_df2_2.Is_Eligible).show()"
      ],
      "metadata": {
        "colab": {
          "base_uri": "https://localhost:8080/"
        },
        "id": "VRCDEguQA-pp",
        "outputId": "3561244b-2880-4483-cc5e-1d99bfaa3460"
      },
      "execution_count": 49,
      "outputs": [
        {
          "output_type": "stream",
          "name": "stdout",
          "text": [
            "+---------------+---+------+------------+----------+---------+-----------+\n",
            "|    player_name|age|gender|     country|first_name|last_name|Is_Eligible|\n",
            "+---------------+---+------+------------+----------+---------+-----------+\n",
            "| Cole McConchie| 17|     M| New Zealand|      Cole|McConchie|       true|\n",
            "|   Dave Pollock| 16|     M|South Africa|      Dave|  Pollock|       true|\n",
            "|  Main Gimmonds| 19|     M|     England|      Main| Gimmonds|       true|\n",
            "|Fellicity Davis| 17|     M| New Zealand| Fellicity|    Davis|       true|\n",
            "+---------------+---+------+------------+----------+---------+-----------+\n",
            "\n"
          ]
        }
      ]
    },
    {
      "cell_type": "markdown",
      "source": [
        "**9. Show the records who has `Is_Eligible` as *False*.**"
      ],
      "metadata": {
        "id": "b2luNOnUA_8r"
      }
    },
    {
      "cell_type": "code",
      "source": [
        "new_df2_2.filter(new_df2_2.Is_Eligible == False).show()"
      ],
      "metadata": {
        "colab": {
          "base_uri": "https://localhost:8080/"
        },
        "id": "2PpL6rjMBCGa",
        "outputId": "8dcfca3d-ff1d-4c62-885d-baa16769f8a3"
      },
      "execution_count": 52,
      "outputs": [
        {
          "output_type": "stream",
          "name": "stdout",
          "text": [
            "+-----------+---+------+-------+----------+---------+-----------+\n",
            "|player_name|age|gender|country|first_name|last_name|Is_Eligible|\n",
            "+-----------+---+------+-------+----------+---------+-----------+\n",
            "|Shaun Davis| 21|     M|  Spain|     Shaun|    Davis|      false|\n",
            "|  Mark Howy| 22|     M|  Spain|      Mark|     Howy|      false|\n",
            "|  Zoe Stark| 22|     F|England|       Zoe|    Stark|      false|\n",
            "+-----------+---+------+-------+----------+---------+-----------+\n",
            "\n"
          ]
        }
      ]
    },
    {
      "cell_type": "code",
      "source": [],
      "metadata": {
        "id": "ADOuR3ffEGRQ"
      },
      "execution_count": null,
      "outputs": []
    }
  ]
}